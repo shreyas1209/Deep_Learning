{
  "nbformat": 4,
  "nbformat_minor": 0,
  "metadata": {
    "colab": {
      "name": "Cat_dog_classifier_NN.ipynb",
      "provenance": [],
      "collapsed_sections": [],
      "authorship_tag": "ABX9TyOW98ZShIAa2KUmsydcU0lx",
      "include_colab_link": true
    },
    "kernelspec": {
      "name": "python3",
      "display_name": "Python 3"
    },
    "accelerator": "GPU",
    "widgets": {
      "application/vnd.jupyter.widget-state+json": {
        "c18b4a76e45a48f8818b55cf21cb6c34": {
          "model_module": "@jupyter-widgets/controls",
          "model_name": "HBoxModel",
          "state": {
            "_view_name": "HBoxView",
            "_dom_classes": [],
            "_model_name": "HBoxModel",
            "_view_module": "@jupyter-widgets/controls",
            "_model_module_version": "1.5.0",
            "_view_count": null,
            "_view_module_version": "1.5.0",
            "box_style": "",
            "layout": "IPY_MODEL_56ceacb702f84f37afa32976b70031c8",
            "_model_module": "@jupyter-widgets/controls",
            "children": [
              "IPY_MODEL_11174cfc43674c69bd649e06b04bae4a",
              "IPY_MODEL_e8b941eb23c24301b257b24c3f27f581"
            ]
          }
        },
        "56ceacb702f84f37afa32976b70031c8": {
          "model_module": "@jupyter-widgets/base",
          "model_name": "LayoutModel",
          "state": {
            "_view_name": "LayoutView",
            "grid_template_rows": null,
            "right": null,
            "justify_content": null,
            "_view_module": "@jupyter-widgets/base",
            "overflow": null,
            "_model_module_version": "1.2.0",
            "_view_count": null,
            "flex_flow": null,
            "width": null,
            "min_width": null,
            "border": null,
            "align_items": null,
            "bottom": null,
            "_model_module": "@jupyter-widgets/base",
            "top": null,
            "grid_column": null,
            "overflow_y": null,
            "overflow_x": null,
            "grid_auto_flow": null,
            "grid_area": null,
            "grid_template_columns": null,
            "flex": null,
            "_model_name": "LayoutModel",
            "justify_items": null,
            "grid_row": null,
            "max_height": null,
            "align_content": null,
            "visibility": null,
            "align_self": null,
            "height": null,
            "min_height": null,
            "padding": null,
            "grid_auto_rows": null,
            "grid_gap": null,
            "max_width": null,
            "order": null,
            "_view_module_version": "1.2.0",
            "grid_template_areas": null,
            "object_position": null,
            "object_fit": null,
            "grid_auto_columns": null,
            "margin": null,
            "display": null,
            "left": null
          }
        },
        "11174cfc43674c69bd649e06b04bae4a": {
          "model_module": "@jupyter-widgets/controls",
          "model_name": "FloatProgressModel",
          "state": {
            "_view_name": "ProgressView",
            "style": "IPY_MODEL_6ecc43d74fa242ac8879e23f592dcc37",
            "_dom_classes": [],
            "description": "",
            "_model_name": "FloatProgressModel",
            "bar_style": "success",
            "max": 1,
            "_view_module": "@jupyter-widgets/controls",
            "_model_module_version": "1.5.0",
            "value": 0,
            "_view_count": null,
            "_view_module_version": "1.5.0",
            "orientation": "horizontal",
            "min": 0,
            "description_tooltip": null,
            "_model_module": "@jupyter-widgets/controls",
            "layout": "IPY_MODEL_2ce30e6331c148398b26e289d22be306"
          }
        },
        "e8b941eb23c24301b257b24c3f27f581": {
          "model_module": "@jupyter-widgets/controls",
          "model_name": "HTMLModel",
          "state": {
            "_view_name": "HTMLView",
            "style": "IPY_MODEL_57b919971efb44f798deaecdcc842ee3",
            "_dom_classes": [],
            "description": "",
            "_model_name": "HTMLModel",
            "placeholder": "​",
            "_view_module": "@jupyter-widgets/controls",
            "_model_module_version": "1.5.0",
            "value": " 0/? [00:07&lt;?, ?it/s]",
            "_view_count": null,
            "_view_module_version": "1.5.0",
            "description_tooltip": null,
            "_model_module": "@jupyter-widgets/controls",
            "layout": "IPY_MODEL_5a70033354a84fa3839e8d07bf152619"
          }
        },
        "6ecc43d74fa242ac8879e23f592dcc37": {
          "model_module": "@jupyter-widgets/controls",
          "model_name": "ProgressStyleModel",
          "state": {
            "_view_name": "StyleView",
            "_model_name": "ProgressStyleModel",
            "description_width": "initial",
            "_view_module": "@jupyter-widgets/base",
            "_model_module_version": "1.5.0",
            "_view_count": null,
            "_view_module_version": "1.2.0",
            "bar_color": null,
            "_model_module": "@jupyter-widgets/controls"
          }
        },
        "2ce30e6331c148398b26e289d22be306": {
          "model_module": "@jupyter-widgets/base",
          "model_name": "LayoutModel",
          "state": {
            "_view_name": "LayoutView",
            "grid_template_rows": null,
            "right": null,
            "justify_content": null,
            "_view_module": "@jupyter-widgets/base",
            "overflow": null,
            "_model_module_version": "1.2.0",
            "_view_count": null,
            "flex_flow": null,
            "width": null,
            "min_width": null,
            "border": null,
            "align_items": null,
            "bottom": null,
            "_model_module": "@jupyter-widgets/base",
            "top": null,
            "grid_column": null,
            "overflow_y": null,
            "overflow_x": null,
            "grid_auto_flow": null,
            "grid_area": null,
            "grid_template_columns": null,
            "flex": null,
            "_model_name": "LayoutModel",
            "justify_items": null,
            "grid_row": null,
            "max_height": null,
            "align_content": null,
            "visibility": null,
            "align_self": null,
            "height": null,
            "min_height": null,
            "padding": null,
            "grid_auto_rows": null,
            "grid_gap": null,
            "max_width": null,
            "order": null,
            "_view_module_version": "1.2.0",
            "grid_template_areas": null,
            "object_position": null,
            "object_fit": null,
            "grid_auto_columns": null,
            "margin": null,
            "display": null,
            "left": null
          }
        },
        "57b919971efb44f798deaecdcc842ee3": {
          "model_module": "@jupyter-widgets/controls",
          "model_name": "DescriptionStyleModel",
          "state": {
            "_view_name": "StyleView",
            "_model_name": "DescriptionStyleModel",
            "description_width": "",
            "_view_module": "@jupyter-widgets/base",
            "_model_module_version": "1.5.0",
            "_view_count": null,
            "_view_module_version": "1.2.0",
            "_model_module": "@jupyter-widgets/controls"
          }
        },
        "5a70033354a84fa3839e8d07bf152619": {
          "model_module": "@jupyter-widgets/base",
          "model_name": "LayoutModel",
          "state": {
            "_view_name": "LayoutView",
            "grid_template_rows": null,
            "right": null,
            "justify_content": null,
            "_view_module": "@jupyter-widgets/base",
            "overflow": null,
            "_model_module_version": "1.2.0",
            "_view_count": null,
            "flex_flow": null,
            "width": null,
            "min_width": null,
            "border": null,
            "align_items": null,
            "bottom": null,
            "_model_module": "@jupyter-widgets/base",
            "top": null,
            "grid_column": null,
            "overflow_y": null,
            "overflow_x": null,
            "grid_auto_flow": null,
            "grid_area": null,
            "grid_template_columns": null,
            "flex": null,
            "_model_name": "LayoutModel",
            "justify_items": null,
            "grid_row": null,
            "max_height": null,
            "align_content": null,
            "visibility": null,
            "align_self": null,
            "height": null,
            "min_height": null,
            "padding": null,
            "grid_auto_rows": null,
            "grid_gap": null,
            "max_width": null,
            "order": null,
            "_view_module_version": "1.2.0",
            "grid_template_areas": null,
            "object_position": null,
            "object_fit": null,
            "grid_auto_columns": null,
            "margin": null,
            "display": null,
            "left": null
          }
        },
        "6a8c6f6d431444d48be51fbc8d9d1a65": {
          "model_module": "@jupyter-widgets/controls",
          "model_name": "HBoxModel",
          "state": {
            "_view_name": "HBoxView",
            "_dom_classes": [],
            "_model_name": "HBoxModel",
            "_view_module": "@jupyter-widgets/controls",
            "_model_module_version": "1.5.0",
            "_view_count": null,
            "_view_module_version": "1.5.0",
            "box_style": "",
            "layout": "IPY_MODEL_97206db8428646ef8933d88c0104e714",
            "_model_module": "@jupyter-widgets/controls",
            "children": [
              "IPY_MODEL_609a237988d34b428f3ad2a95aab65e2",
              "IPY_MODEL_ccef4c12e194411886cbc60aaaa7f679"
            ]
          }
        },
        "97206db8428646ef8933d88c0104e714": {
          "model_module": "@jupyter-widgets/base",
          "model_name": "LayoutModel",
          "state": {
            "_view_name": "LayoutView",
            "grid_template_rows": null,
            "right": null,
            "justify_content": null,
            "_view_module": "@jupyter-widgets/base",
            "overflow": null,
            "_model_module_version": "1.2.0",
            "_view_count": null,
            "flex_flow": null,
            "width": null,
            "min_width": null,
            "border": null,
            "align_items": null,
            "bottom": null,
            "_model_module": "@jupyter-widgets/base",
            "top": null,
            "grid_column": null,
            "overflow_y": null,
            "overflow_x": null,
            "grid_auto_flow": null,
            "grid_area": null,
            "grid_template_columns": null,
            "flex": null,
            "_model_name": "LayoutModel",
            "justify_items": null,
            "grid_row": null,
            "max_height": null,
            "align_content": null,
            "visibility": null,
            "align_self": null,
            "height": null,
            "min_height": null,
            "padding": null,
            "grid_auto_rows": null,
            "grid_gap": null,
            "max_width": null,
            "order": null,
            "_view_module_version": "1.2.0",
            "grid_template_areas": null,
            "object_position": null,
            "object_fit": null,
            "grid_auto_columns": null,
            "margin": null,
            "display": null,
            "left": null
          }
        },
        "609a237988d34b428f3ad2a95aab65e2": {
          "model_module": "@jupyter-widgets/controls",
          "model_name": "FloatProgressModel",
          "state": {
            "_view_name": "ProgressView",
            "style": "IPY_MODEL_e85a3c22fde146d38007250b5c064843",
            "_dom_classes": [],
            "description": "",
            "_model_name": "FloatProgressModel",
            "bar_style": "success",
            "max": 1,
            "_view_module": "@jupyter-widgets/controls",
            "_model_module_version": "1.5.0",
            "value": 1,
            "_view_count": null,
            "_view_module_version": "1.5.0",
            "orientation": "horizontal",
            "min": 0,
            "description_tooltip": null,
            "_model_module": "@jupyter-widgets/controls",
            "layout": "IPY_MODEL_c12fa363c7e4443e8c62ac0687056e14"
          }
        },
        "ccef4c12e194411886cbc60aaaa7f679": {
          "model_module": "@jupyter-widgets/controls",
          "model_name": "HTMLModel",
          "state": {
            "_view_name": "HTMLView",
            "style": "IPY_MODEL_f67aa72306254a04aafee49e6bcf3f47",
            "_dom_classes": [],
            "description": "",
            "_model_name": "HTMLModel",
            "placeholder": "​",
            "_view_module": "@jupyter-widgets/controls",
            "_model_module_version": "1.5.0",
            "value": " 170500096/? [00:07&lt;00:00, 22360727.06it/s]",
            "_view_count": null,
            "_view_module_version": "1.5.0",
            "description_tooltip": null,
            "_model_module": "@jupyter-widgets/controls",
            "layout": "IPY_MODEL_32c52e15e8f64fea883012605610663f"
          }
        },
        "e85a3c22fde146d38007250b5c064843": {
          "model_module": "@jupyter-widgets/controls",
          "model_name": "ProgressStyleModel",
          "state": {
            "_view_name": "StyleView",
            "_model_name": "ProgressStyleModel",
            "description_width": "initial",
            "_view_module": "@jupyter-widgets/base",
            "_model_module_version": "1.5.0",
            "_view_count": null,
            "_view_module_version": "1.2.0",
            "bar_color": null,
            "_model_module": "@jupyter-widgets/controls"
          }
        },
        "c12fa363c7e4443e8c62ac0687056e14": {
          "model_module": "@jupyter-widgets/base",
          "model_name": "LayoutModel",
          "state": {
            "_view_name": "LayoutView",
            "grid_template_rows": null,
            "right": null,
            "justify_content": null,
            "_view_module": "@jupyter-widgets/base",
            "overflow": null,
            "_model_module_version": "1.2.0",
            "_view_count": null,
            "flex_flow": null,
            "width": null,
            "min_width": null,
            "border": null,
            "align_items": null,
            "bottom": null,
            "_model_module": "@jupyter-widgets/base",
            "top": null,
            "grid_column": null,
            "overflow_y": null,
            "overflow_x": null,
            "grid_auto_flow": null,
            "grid_area": null,
            "grid_template_columns": null,
            "flex": null,
            "_model_name": "LayoutModel",
            "justify_items": null,
            "grid_row": null,
            "max_height": null,
            "align_content": null,
            "visibility": null,
            "align_self": null,
            "height": null,
            "min_height": null,
            "padding": null,
            "grid_auto_rows": null,
            "grid_gap": null,
            "max_width": null,
            "order": null,
            "_view_module_version": "1.2.0",
            "grid_template_areas": null,
            "object_position": null,
            "object_fit": null,
            "grid_auto_columns": null,
            "margin": null,
            "display": null,
            "left": null
          }
        },
        "f67aa72306254a04aafee49e6bcf3f47": {
          "model_module": "@jupyter-widgets/controls",
          "model_name": "DescriptionStyleModel",
          "state": {
            "_view_name": "StyleView",
            "_model_name": "DescriptionStyleModel",
            "description_width": "",
            "_view_module": "@jupyter-widgets/base",
            "_model_module_version": "1.5.0",
            "_view_count": null,
            "_view_module_version": "1.2.0",
            "_model_module": "@jupyter-widgets/controls"
          }
        },
        "32c52e15e8f64fea883012605610663f": {
          "model_module": "@jupyter-widgets/base",
          "model_name": "LayoutModel",
          "state": {
            "_view_name": "LayoutView",
            "grid_template_rows": null,
            "right": null,
            "justify_content": null,
            "_view_module": "@jupyter-widgets/base",
            "overflow": null,
            "_model_module_version": "1.2.0",
            "_view_count": null,
            "flex_flow": null,
            "width": null,
            "min_width": null,
            "border": null,
            "align_items": null,
            "bottom": null,
            "_model_module": "@jupyter-widgets/base",
            "top": null,
            "grid_column": null,
            "overflow_y": null,
            "overflow_x": null,
            "grid_auto_flow": null,
            "grid_area": null,
            "grid_template_columns": null,
            "flex": null,
            "_model_name": "LayoutModel",
            "justify_items": null,
            "grid_row": null,
            "max_height": null,
            "align_content": null,
            "visibility": null,
            "align_self": null,
            "height": null,
            "min_height": null,
            "padding": null,
            "grid_auto_rows": null,
            "grid_gap": null,
            "max_width": null,
            "order": null,
            "_view_module_version": "1.2.0",
            "grid_template_areas": null,
            "object_position": null,
            "object_fit": null,
            "grid_auto_columns": null,
            "margin": null,
            "display": null,
            "left": null
          }
        }
      }
    }
  },
  "cells": [
    {
      "cell_type": "markdown",
      "metadata": {
        "id": "view-in-github",
        "colab_type": "text"
      },
      "source": [
        "<a href=\"https://colab.research.google.com/github/shreyas1209/Deep_Learning/blob/main/Cat_dog_classifier_NN.ipynb\" target=\"_parent\"><img src=\"https://colab.research.google.com/assets/colab-badge.svg\" alt=\"Open In Colab\"/></a>"
      ]
    },
    {
      "cell_type": "code",
      "metadata": {
        "id": "SoFILTM5PEp7"
      },
      "source": [
        "import torch\r\n",
        "import torch.nn as nn\r\n",
        "import numpy as np\r\n",
        "import matplotlib.pyplot as plt\r\n",
        "from torchvision import datasets\r\n",
        "from torchvision import transforms"
      ],
      "execution_count": 1,
      "outputs": []
    },
    {
      "cell_type": "code",
      "metadata": {
        "colab": {
          "base_uri": "https://localhost:8080/",
          "height": 151,
          "referenced_widgets": [
            "c18b4a76e45a48f8818b55cf21cb6c34",
            "56ceacb702f84f37afa32976b70031c8",
            "11174cfc43674c69bd649e06b04bae4a",
            "e8b941eb23c24301b257b24c3f27f581",
            "6ecc43d74fa242ac8879e23f592dcc37",
            "2ce30e6331c148398b26e289d22be306",
            "57b919971efb44f798deaecdcc842ee3",
            "5a70033354a84fa3839e8d07bf152619",
            "6a8c6f6d431444d48be51fbc8d9d1a65",
            "97206db8428646ef8933d88c0104e714",
            "609a237988d34b428f3ad2a95aab65e2",
            "ccef4c12e194411886cbc60aaaa7f679",
            "e85a3c22fde146d38007250b5c064843",
            "c12fa363c7e4443e8c62ac0687056e14",
            "f67aa72306254a04aafee49e6bcf3f47",
            "32c52e15e8f64fea883012605610663f"
          ]
        },
        "id": "VuvIqYATQK_r",
        "outputId": "2f56eed2-3f41-4015-8409-cfbf2f734615"
      },
      "source": [
        "data_path = (\"C:\\\\\")\r\n",
        "cifar_10 = datasets.CIFAR10(data_path, train=True, download=True,transform=transforms.Compose([transforms.ToTensor(),transforms.Normalize((0.4914, 0.4822, 0.4465),(0.2470, 0.2435, 0.2616))]))\r\n",
        "classes = cifar_10.classes\r\n",
        "print(classes)"
      ],
      "execution_count": 2,
      "outputs": [
        {
          "output_type": "stream",
          "text": [
            "Downloading https://www.cs.toronto.edu/~kriz/cifar-10-python.tar.gz to C:\\/cifar-10-python.tar.gz\n"
          ],
          "name": "stdout"
        },
        {
          "output_type": "display_data",
          "data": {
            "application/vnd.jupyter.widget-view+json": {
              "model_id": "c18b4a76e45a48f8818b55cf21cb6c34",
              "version_minor": 0,
              "version_major": 2
            },
            "text/plain": [
              "HBox(children=(FloatProgress(value=1.0, bar_style='info', max=1.0), HTML(value='')))"
            ]
          },
          "metadata": {
            "tags": []
          }
        },
        {
          "output_type": "stream",
          "text": [
            "Failed download. Trying https -> http instead. Downloading http://www.cs.toronto.edu/~kriz/cifar-10-python.tar.gz to C:\\/cifar-10-python.tar.gz\n"
          ],
          "name": "stdout"
        },
        {
          "output_type": "display_data",
          "data": {
            "application/vnd.jupyter.widget-view+json": {
              "model_id": "6a8c6f6d431444d48be51fbc8d9d1a65",
              "version_minor": 0,
              "version_major": 2
            },
            "text/plain": [
              "HBox(children=(FloatProgress(value=1.0, bar_style='info', max=1.0), HTML(value='')))"
            ]
          },
          "metadata": {
            "tags": []
          }
        },
        {
          "output_type": "stream",
          "text": [
            "Extracting C:\\/cifar-10-python.tar.gz to C:\\\n",
            "['airplane', 'automobile', 'bird', 'cat', 'deer', 'dog', 'frog', 'horse', 'ship', 'truck']\n"
          ],
          "name": "stdout"
        }
      ]
    },
    {
      "cell_type": "code",
      "metadata": {
        "colab": {
          "base_uri": "https://localhost:8080/",
          "height": 70
        },
        "id": "POKRmpU2QLLB",
        "outputId": "e90ac8ea-5842-41d7-a319-a235d7514146"
      },
      "source": [
        "#calculating mean and std dev for normalisation\r\n",
        "\r\n",
        "images = torch.stack([image for image,label in cifar_10],dim= 3)\r\n",
        "images.shape\r\n",
        "\r\n",
        "'''mean = images.view(3,-1).mean(dim = 1)\r\n",
        "std = images.view(3,-1).std(dim = 1)\r\n",
        "print(mean,std)'''"
      ],
      "execution_count": 3,
      "outputs": [
        {
          "output_type": "stream",
          "text": [
            "\n",
            "\n"
          ],
          "name": "stdout"
        },
        {
          "output_type": "execute_result",
          "data": {
            "application/vnd.google.colaboratory.intrinsic+json": {
              "type": "string"
            },
            "text/plain": [
              "'mean = images.view(3,-1).mean(dim = 1)\\nstd = images.view(3,-1).std(dim = 1)\\nprint(mean,std)'"
            ]
          },
          "metadata": {
            "tags": []
          },
          "execution_count": 3
        }
      ]
    },
    {
      "cell_type": "code",
      "metadata": {
        "colab": {
          "base_uri": "https://localhost:8080/",
          "height": 301
        },
        "id": "mlIEE0uZQLRW",
        "outputId": "2d75277d-7419-495d-f04d-a98e900c1fe5"
      },
      "source": [
        "#randomly showing an image\r\n",
        "random_index = np.random.randint((len(cifar_10)))\r\n",
        "#displaying the image\r\n",
        "image , label = cifar_10[random_index]\r\n",
        "\r\n",
        "plt.imshow(image.permute(1,2,0)) #as imgshow takes HxWxC as its order of parameters\r\n",
        "plt.show()\r\n",
        "print(\"Figure:\",classes[label])"
      ],
      "execution_count": 4,
      "outputs": [
        {
          "output_type": "stream",
          "text": [
            "Clipping input data to the valid range for imshow with RGB data ([0..1] for floats or [0..255] for integers).\n"
          ],
          "name": "stderr"
        },
        {
          "output_type": "display_data",
          "data": {
            "image/png": "[encoded data removed]",
            "text/plain": [
              "<Figure size 432x288 with 1 Axes>"
            ]
          },
          "metadata": {
            "tags": [],
            "needs_background": "light"
          }
        },
        {
          "output_type": "stream",
          "text": [
            "Figure: horse\n"
          ],
          "name": "stdout"
        }
      ]
    },
    {
      "cell_type": "code",
      "metadata": {
        "id": "b2_4tfa5QLVn"
      },
      "source": [
        "#this will be used to differentiate between dogs and cats\r\n",
        "\r\n",
        "label_dict = {3:0,5:1}\r\n",
        "class_names = {'cat','dog'}\r\n",
        "cifar_train = [(img,label_dict[label]) for(img,label) in cifar_10 if label in [3,5]];\r\n",
        "cifar_test = [(img,label_dict[label]) for(img,label) in cifar_10 if label in [3,5]];"
      ],
      "execution_count": 5,
      "outputs": []
    },
    {
      "cell_type": "code",
      "metadata": {
        "id": "1aqoCOLtQLYk"
      },
      "source": [
        "#creating the model\r\n",
        "model = nn.Sequential(\r\n",
        "    nn.Linear(3072,1024),\r\n",
        "    nn.Tanh(),\r\n",
        "    nn.Linear(1024,512),\r\n",
        "    nn.Tanh(),\r\n",
        "    nn.Linear(512,128),\r\n",
        "    nn.Tanh(),\r\n",
        "    nn.Linear(128,2),\r\n",
        "    nn.LogSoftmax(dim =1)   \r\n",
        ")"
      ],
      "execution_count": 6,
      "outputs": []
    },
    {
      "cell_type": "code",
      "metadata": {
        "colab": {
          "base_uri": "https://localhost:8080/"
        },
        "id": "AqPHHk2EQLgZ",
        "outputId": "b6d4ddb6-19a8-417a-f412-f3b1156a21a7"
      },
      "source": [
        "#training the model\r\n",
        "alpha = 0.001 #learning rate\r\n",
        "optimiser = torch.optim.SGD(model.parameters(),lr = alpha) # Using stochastic gradient descent \r\n",
        "loss_func = nn.NLLLoss()\r\n",
        "epochs = 50\r\n",
        "\r\n",
        "for i in range(epochs):\r\n",
        "  for img,label in cifar_train:\r\n",
        "    out = model(img.view(-1).unsqueeze(0)) #input as a row vector with an additional dimension\r\n",
        "    loss = loss_func(out, torch.tensor([label]))\r\n",
        "    \r\n",
        "    optimiser.zero_grad()\r\n",
        "    loss.backward() #backprop\r\n",
        "    optimiser.step() #updating weights\r\n",
        "  print(\"Epoch: %d, Loss: %f\" % (i, float(loss)))\r\n"
      ],
      "execution_count": 7,
      "outputs": [
        {
          "output_type": "stream",
          "text": [
            "Epoch: 0, Loss: 0.599136\n",
            "Epoch: 1, Loss: 0.592299\n",
            "Epoch: 2, Loss: 0.589803\n",
            "Epoch: 3, Loss: 0.586222\n",
            "Epoch: 4, Loss: 0.574450\n",
            "Epoch: 5, Loss: 0.551510\n",
            "Epoch: 6, Loss: 0.524113\n",
            "Epoch: 7, Loss: 0.502426\n",
            "Epoch: 8, Loss: 0.496636\n",
            "Epoch: 9, Loss: 0.511074\n",
            "Epoch: 10, Loss: 0.515969\n",
            "Epoch: 11, Loss: 0.505472\n",
            "Epoch: 12, Loss: 0.342187\n",
            "Epoch: 13, Loss: 0.284463\n",
            "Epoch: 14, Loss: 0.162254\n",
            "Epoch: 15, Loss: 0.421335\n",
            "Epoch: 16, Loss: 0.269697\n",
            "Epoch: 17, Loss: 0.599958\n",
            "Epoch: 18, Loss: 0.051741\n",
            "Epoch: 19, Loss: 0.002643\n",
            "Epoch: 20, Loss: 0.001118\n",
            "Epoch: 21, Loss: 0.001791\n",
            "Epoch: 22, Loss: 0.036914\n",
            "Epoch: 23, Loss: 0.010147\n",
            "Epoch: 24, Loss: 0.002886\n",
            "Epoch: 25, Loss: 0.004732\n",
            "Epoch: 26, Loss: 0.005644\n",
            "Epoch: 27, Loss: 0.010296\n",
            "Epoch: 28, Loss: 0.001950\n",
            "Epoch: 29, Loss: 0.007253\n",
            "Epoch: 30, Loss: 0.002992\n",
            "Epoch: 31, Loss: 0.000894\n",
            "Epoch: 32, Loss: 0.001308\n",
            "Epoch: 33, Loss: 0.008481\n",
            "Epoch: 34, Loss: 0.000484\n",
            "Epoch: 35, Loss: 0.002041\n",
            "Epoch: 36, Loss: 0.000103\n",
            "Epoch: 37, Loss: 0.000033\n",
            "Epoch: 38, Loss: 0.000021\n",
            "Epoch: 39, Loss: 0.000050\n",
            "Epoch: 40, Loss: 0.000240\n",
            "Epoch: 41, Loss: 0.000000\n",
            "Epoch: 42, Loss: 0.000013\n",
            "Epoch: 43, Loss: 0.000130\n",
            "Epoch: 44, Loss: 0.001165\n",
            "Epoch: 45, Loss: 0.001756\n",
            "Epoch: 46, Loss: 0.000035\n",
            "Epoch: 47, Loss: 0.000017\n",
            "Epoch: 48, Loss: 0.000273\n",
            "Epoch: 49, Loss: 0.000246\n"
          ],
          "name": "stdout"
        }
      ]
    },
    {
      "cell_type": "code",
      "metadata": {
        "id": "eF9mMb-fvBfM",
        "colab": {
          "base_uri": "https://localhost:8080/"
        },
        "outputId": "02190bf3-3a85-4b8d-a9a3-124fc01fd3be"
      },
      "source": [
        "#validating the trained weights\r\n",
        "\r\n",
        "test_loader = torch.utils.data.DataLoader(cifar_test,batch_size = 64,shuffle = False)\r\n",
        "correct = total = 0\r\n",
        "\r\n",
        "with torch.no_grad():\r\n",
        "  for img , label in test_loader:\r\n",
        "    batch_size = img.shape[0]\r\n",
        "    output = model(img.view(batch_size,-1))\r\n",
        "    maxi, predicted =  torch.max(output,dim=1)\r\n",
        "    total +=label.shape[0]\r\n",
        "    correct += int((predicted == label).sum())\r\n",
        "print(\"Score: \", correct / total)\r\n",
        "\r\n",
        "\r\n",
        "\r\n"
      ],
      "execution_count": 8,
      "outputs": [
        {
          "output_type": "stream",
          "text": [
            "Score:  0.9789\n"
          ],
          "name": "stdout"
        }
      ]
    },
    {
      "cell_type": "code",
      "metadata": {
        "id": "OzDR60u3wSSp"
      },
      "source": [
        ""
      ],
      "execution_count": 8,
      "outputs": []
    }
  ]
}