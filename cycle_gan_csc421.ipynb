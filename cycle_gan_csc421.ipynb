{
  "nbformat": 4,
  "nbformat_minor": 0,
  "metadata": {
    "colab": {
      "name": "cycle_gan_csc421.ipynb",
      "provenance": [],
      "collapsed_sections": [],
      "toc_visible": true,
      "include_colab_link": true
    },
    "kernelspec": {
      "name": "python3",
      "display_name": "Python 3"
    },
    "accelerator": "GPU",
    "language_info": {
      "name": "python"
    }
  },
  "cells": [
    {
      "cell_type": "markdown",
      "metadata": {
        "id": "view-in-github",
        "colab_type": "text"
      },
      "source": [
        "<a href=\"https://colab.research.google.com/github/shreyas1209/Deep_Learning/blob/main/cycle_gan_csc421.ipynb\" target=\"_parent\"><img src=\"https://colab.research.google.com/assets/colab-badge.svg\" alt=\"Open In Colab\"/></a>"
      ]
    },
    {
      "cell_type": "markdown",
      "metadata": {
        "id": "TjPTaRB4mpCd"
      },
      "source": [
        "# Colab FAQ\n",
        "\n",
        "For some basic overview and features offered in Colab notebooks, check out: [Overview of Colaboratory Features](https://colab.research.google.com/notebooks/basic_features_overview.ipynb)\n",
        "\n",
        "You need to use the colab GPU for this assignmentby selecting:\n",
        "\n",
        "> **Runtime**   →   **Change runtime type**   →   **Hardware Accelerator: GPU**"
      ]
    },
    {
      "cell_type": "markdown",
      "metadata": {
        "id": "s9IS9B9-yUU5"
      },
      "source": [
        "## Setup PyTorch\n",
        "All files are stored at /content/csc421/a4/ folder\n"
      ]
    },
    {
      "cell_type": "code",
      "metadata": {
        "id": "Z-6MQhMOlHXD",
        "colab": {
          "base_uri": "https://localhost:8080/"
        },
        "outputId": "31b6ec0f-5ac8-492e-b423-7032b297156e"
      },
      "source": [
        "######################################################################\n",
        "# Setup python environment and change the current working directory\n",
        "######################################################################\n",
        "!pip install torch torchvision\n",
        "!pip install Pillow==4.3.0\n",
        "%mkdir -p /content/csc421/a4/\n",
        "%cd /content/csc421/a4"
      ],
      "execution_count": null,
      "outputs": [
        {
          "output_type": "stream",
          "text": [
            "Requirement already satisfied: torch in /usr/local/lib/python3.7/dist-packages (1.8.0+cu101)\n",
            "Requirement already satisfied: torchvision in /usr/local/lib/python3.7/dist-packages (0.9.0+cu101)\n",
            "Requirement already satisfied: numpy in /usr/local/lib/python3.7/dist-packages (from torch) (1.19.5)\n",
            "Requirement already satisfied: typing-extensions in /usr/local/lib/python3.7/dist-packages (from torch) (3.7.4.3)\n",
            "Requirement already satisfied: pillow>=4.1.1 in /usr/local/lib/python3.7/dist-packages (from torchvision) (4.3.0)\n",
            "Requirement already satisfied: olefile in /usr/local/lib/python3.7/dist-packages (from pillow>=4.1.1->torchvision) (0.46)\n",
            "Requirement already satisfied: Pillow==4.3.0 in /usr/local/lib/python3.7/dist-packages (4.3.0)\n",
            "Requirement already satisfied: olefile in /usr/local/lib/python3.7/dist-packages (from Pillow==4.3.0) (0.46)\n",
            "/content/csc421/a4\n"
          ],
          "name": "stdout"
        }
      ]
    },
    {
      "cell_type": "markdown",
      "metadata": {
        "id": "9DaTdRNuUra7"
      },
      "source": [
        "# Helper code"
      ]
    },
    {
      "cell_type": "markdown",
      "metadata": {
        "id": "4BIpGwANoQOg"
      },
      "source": [
        "## Utility functions"
      ]
    },
    {
      "cell_type": "code",
      "metadata": {
        "id": "D-UJHBYZkh7f"
      },
      "source": [
        "import os\n",
        "import pdb\n",
        "import argparse\n",
        "import pickle as pkl\n",
        "\n",
        "from collections import defaultdict\n",
        "\n",
        "import numpy as np\n",
        "import matplotlib as mpl\n",
        "import matplotlib.pyplot as plt\n",
        "import matplotlib.ticker as ticker\n",
        "\n",
        "import torch\n",
        "import torch.nn as nn\n",
        "import torch.optim as optim\n",
        "import torch.nn.functional as F\n",
        "from torch.autograd import Variable\n",
        "from torch.utils.data import DataLoader\n",
        "\n",
        "from torchvision import datasets\n",
        "from torchvision import transforms\n",
        "\n",
        "from six.moves.urllib.request import urlretrieve\n",
        "import tarfile\n",
        "import pickle\n",
        "import sys\n",
        "import scipy\n",
        "import scipy.misc\n",
        "import imageio\n",
        "\n",
        "\n",
        "def get_file(fname,\n",
        "             origin,\n",
        "             untar=False,\n",
        "             extract=False,\n",
        "             archive_format='auto',\n",
        "             cache_dir='data'):\n",
        "    datadir = os.path.join(cache_dir)\n",
        "    if not os.path.exists(datadir):\n",
        "        os.makedirs(datadir)\n",
        "\n",
        "    if untar:\n",
        "        untar_fpath = os.path.join(datadir, fname)\n",
        "        fpath = untar_fpath + '.tar.gz'\n",
        "    else:\n",
        "        fpath = os.path.join(datadir, fname)\n",
        "    \n",
        "    print(fpath)\n",
        "    if not os.path.exists(fpath):\n",
        "        print('Downloading data from', origin)\n",
        "\n",
        "        error_msg = 'URL fetch failure on {}: {} -- {}'\n",
        "        try:\n",
        "            try:\n",
        "                urlretrieve(origin, fpath)\n",
        "            except URLError as e:\n",
        "                raise Exception(error_msg.format(origin, e.errno, e.reason))\n",
        "            except HTTPError as e:\n",
        "                raise Exception(error_msg.format(origin, e.code, e.msg))\n",
        "        except (Exception, KeyboardInterrupt) as e:\n",
        "            if os.path.exists(fpath):\n",
        "                os.remove(fpath)\n",
        "            raise\n",
        "\n",
        "    if untar:\n",
        "        if not os.path.exists(untar_fpath):\n",
        "            print('Extracting file.')\n",
        "            with tarfile.open(fpath) as archive:\n",
        "                archive.extractall(datadir)\n",
        "        return untar_fpath\n",
        "\n",
        "    if extract:\n",
        "        _extract_archive(fpath, datadir, archive_format)\n",
        "\n",
        "    return fpath\n",
        "\n",
        "class AttrDict(dict):\n",
        "    def __init__(self, *args, **kwargs):\n",
        "        super(AttrDict, self).__init__(*args, **kwargs)\n",
        "        self.__dict__ = self\n",
        "        \n",
        "def to_var(tensor, cuda=True):\n",
        "    \"\"\"Wraps a Tensor in a Variable, optionally placing it on the GPU.\n",
        "\n",
        "        Arguments:\n",
        "            tensor: A Tensor object.\n",
        "            cuda: A boolean flag indicating whether to use the GPU.\n",
        "\n",
        "        Returns:\n",
        "            A Variable object, on the GPU if cuda==True.\n",
        "    \"\"\"\n",
        "    if cuda:\n",
        "        return Variable(tensor.cuda())\n",
        "    else:\n",
        "        return Variable(tensor)\n",
        "\n",
        "def to_data(x):\n",
        "    \"\"\"Converts variable to numpy.\"\"\"\n",
        "    if torch.cuda.is_available():\n",
        "        x = x.cpu()\n",
        "    return x.data.numpy()\n",
        "\n",
        "def create_dir(directory):\n",
        "    \"\"\"Creates a directory if it doesn't already exist.\n",
        "    \"\"\"\n",
        "    if not os.path.exists(directory):\n",
        "        os.makedirs(directory)\n",
        "\n",
        "def gan_checkpoint(iteration, G, D, opts):\n",
        "    \"\"\"Saves the parameters of the generator G and discriminator D.\n",
        "    \"\"\"\n",
        "    G_path = os.path.join(opts.checkpoint_dir, 'G.pkl')\n",
        "    D_path = os.path.join(opts.checkpoint_dir, 'D.pkl')\n",
        "    torch.save(G.state_dict(), G_path)\n",
        "    torch.save(D.state_dict(), D_path)\n",
        "\n",
        "def cyclegan_checkpoint(iteration, G_XtoY, G_YtoX, D_X, D_Y, opts):\n",
        "    \"\"\"Saves the parameters of both generators G_YtoX, G_XtoY and discriminators D_X, D_Y.\n",
        "    \"\"\"\n",
        "    G_XtoY_path = os.path.join(opts.checkpoint_dir, 'G_XtoY.pkl')\n",
        "    G_YtoX_path = os.path.join(opts.checkpoint_dir, 'G_YtoX.pkl')\n",
        "    D_X_path = os.path.join(opts.checkpoint_dir, 'D_X.pkl')\n",
        "    D_Y_path = os.path.join(opts.checkpoint_dir, 'D_Y.pkl')\n",
        "    torch.save(G_XtoY.state_dict(), G_XtoY_path)\n",
        "    torch.save(G_YtoX.state_dict(), G_YtoX_path)\n",
        "    torch.save(D_X.state_dict(), D_X_path)\n",
        "    torch.save(D_Y.state_dict(), D_Y_path)\n",
        "\n",
        "\n",
        "def load_checkpoint(opts):\n",
        "    \"\"\"Loads the generator and discriminator models from checkpoints.\n",
        "    \"\"\"\n",
        "    G_XtoY_path = os.path.join(opts.load, 'G_XtoY.pkl')\n",
        "    G_YtoX_path = os.path.join(opts.load, 'G_YtoX.pkl')\n",
        "    D_X_path = os.path.join(opts.load, 'D_X.pkl')\n",
        "    D_Y_path = os.path.join(opts.load, 'D_Y.pkl')\n",
        "\n",
        "    G_XtoY = CycleGenerator(conv_dim=opts.g_conv_dim, init_zero_weights=opts.init_zero_weights)\n",
        "    G_YtoX = CycleGenerator(conv_dim=opts.g_conv_dim, init_zero_weights=opts.init_zero_weights)\n",
        "    D_X = DCDiscriminator(conv_dim=opts.d_conv_dim)\n",
        "    D_Y = DCDiscriminator(conv_dim=opts.d_conv_dim)\n",
        "\n",
        "    G_XtoY.load_state_dict(torch.load(G_XtoY_path, map_location=lambda storage, loc: storage))\n",
        "    G_YtoX.load_state_dict(torch.load(G_YtoX_path, map_location=lambda storage, loc: storage))\n",
        "    D_X.load_state_dict(torch.load(D_X_path, map_location=lambda storage, loc: storage))\n",
        "    D_Y.load_state_dict(torch.load(D_Y_path, map_location=lambda storage, loc: storage))\n",
        "\n",
        "    if torch.cuda.is_available():\n",
        "        G_XtoY.cuda()\n",
        "        G_YtoX.cuda()\n",
        "        D_X.cuda()\n",
        "        D_Y.cuda()\n",
        "        print('Models moved to GPU.')\n",
        "\n",
        "    return G_XtoY, G_YtoX, D_X, D_Y\n",
        "\n",
        "\n",
        "def merge_images(sources, targets, opts):\n",
        "    \"\"\"Creates a grid consisting of pairs of columns, where the first column in\n",
        "    each pair contains images source images and the second column in each pair\n",
        "    contains images generated by the CycleGAN from the corresponding images in\n",
        "    the first column.\n",
        "    \"\"\"\n",
        "    _, _, h, w = sources.shape\n",
        "    row = int(np.sqrt(opts.batch_size))\n",
        "    merged = np.zeros([3, row*h, row*w*2])\n",
        "    for (idx, s, t) in (zip(range(row**2), sources, targets,)):\n",
        "        i = idx // row\n",
        "        j = idx % row\n",
        "        merged[:, i*h:(i+1)*h, (j*2)*h:(j*2+1)*h] = s\n",
        "        merged[:, i*h:(i+1)*h, (j*2+1)*h:(j*2+2)*h] = t\n",
        "    return merged.transpose(1, 2, 0)\n",
        "\n",
        "def create_image_grid(array, ncols=None):\n",
        "    \"\"\"\n",
        "    \"\"\"\n",
        "    num_images, channels, cell_h, cell_w = array.shape\n",
        "    if not ncols:\n",
        "        ncols = int(np.sqrt(num_images))\n",
        "    nrows = int(np.math.floor(num_images / float(ncols)))\n",
        "    result = np.zeros((cell_h*nrows, cell_w*ncols, channels), dtype=array.dtype)\n",
        "    for i in range(0, nrows):\n",
        "        for j in range(0, ncols):\n",
        "            result[i*cell_h:(i+1)*cell_h, j*cell_w:(j+1)*cell_w, :] = array[i*ncols+j].transpose(1, 2, 0)\n",
        "\n",
        "    if channels == 1:\n",
        "        result = result.squeeze()\n",
        "    return result\n",
        "  \n",
        "def gan_save_samples(G, fixed_noise, iteration, opts):\n",
        "    generated_images = G(fixed_noise)\n",
        "    generated_images = to_data(generated_images)\n",
        "\n",
        "    grid = create_image_grid(generated_images)\n",
        "\n",
        "    # merged = merge_images(X, fake_Y, opts)\n",
        "    path = os.path.join(opts.sample_dir, 'sample-{:06d}.png'.format(iteration))\n",
        "    #scipy.misc.imsave(path, grid)\n",
        "    imageio.imwrite(path, grid)\n",
        "    print('Saved {}'.format(path))\n",
        "\n",
        "def cyclegan_save_samples(iteration, fixed_Y, fixed_X, G_YtoX, G_XtoY, opts):\n",
        "    \"\"\"Saves samples from both generators X->Y and Y->X.\n",
        "    \"\"\"\n",
        "    fake_X = G_YtoX(fixed_Y)\n",
        "    fake_Y = G_XtoY(fixed_X)\n",
        "\n",
        "    X, fake_X = to_data(fixed_X), to_data(fake_X)\n",
        "    Y, fake_Y = to_data(fixed_Y), to_data(fake_Y)\n",
        "\n",
        "    merged = merge_images(X, fake_Y, opts)\n",
        "    path = os.path.join(opts.sample_dir, 'sample-{:06d}-X-Y.png'.format(iteration))\n",
        "    #scipy.misc.imsave(path, merged)\n",
        "    imageio.imwrite(path, merged)\n",
        "    print('Saved {}'.format(path))\n",
        "\n",
        "    merged = merge_images(Y, fake_X, opts)\n",
        "    path = os.path.join(opts.sample_dir, 'sample-{:06d}-Y-X.png'.format(iteration))\n",
        "    #scipy.misc.imsave(path, merged)\n",
        "    imageio.imwrite(path, merged)\n",
        "    print('Saved {}'.format(path))"
      ],
      "execution_count": null,
      "outputs": []
    },
    {
      "cell_type": "markdown",
      "metadata": {
        "id": "pbvpn4MaV0I1"
      },
      "source": [
        "## Data loader"
      ]
    },
    {
      "cell_type": "code",
      "metadata": {
        "id": "XVT4TNTOV3Eg"
      },
      "source": [
        "def get_emoji_loader(emoji_type, opts):\n",
        "    \"\"\"Creates training and test data loaders.\n",
        "    \"\"\"\n",
        "    transform = transforms.Compose([\n",
        "                    transforms.Scale(opts.image_size),\n",
        "                    transforms.ToTensor(),\n",
        "                    transforms.Normalize((0.5, 0.5, 0.5), (0.5, 0.5, 0.5))\n",
        "                ])\n",
        "\n",
        "    train_path = os.path.join('data/emojis', emoji_type)\n",
        "    test_path = os.path.join('data/emojis', 'Test_{}'.format(emoji_type))\n",
        "\n",
        "    train_dataset = datasets.ImageFolder(train_path, transform)\n",
        "    test_dataset = datasets.ImageFolder(test_path, transform)\n",
        "\n",
        "    train_dloader = DataLoader(dataset=train_dataset, batch_size=opts.batch_size, shuffle=True, num_workers=opts.num_workers)\n",
        "    test_dloader = DataLoader(dataset=test_dataset, batch_size=opts.batch_size, shuffle=False, num_workers=opts.num_workers)\n",
        "\n",
        "    return train_dloader, test_dloader"
      ],
      "execution_count": null,
      "outputs": []
    },
    {
      "cell_type": "markdown",
      "metadata": {
        "id": "bRWfRdmVVjUl"
      },
      "source": [
        "## Training and evaluation code"
      ]
    },
    {
      "cell_type": "code",
      "metadata": {
        "id": "nSIhQp41q_Nu"
      },
      "source": [
        "def print_models(G_XtoY, G_YtoX, D_X, D_Y):\n",
        "    \"\"\"Prints model information for the generators and discriminators.\n",
        "    \"\"\"\n",
        "    if G_YtoX:\n",
        "      print(\"                 G_XtoY                \")\n",
        "      print(\"---------------------------------------\")\n",
        "      print(G_XtoY)\n",
        "      print(\"---------------------------------------\")\n",
        "\n",
        "      print(\"                 G_YtoX                \")\n",
        "      print(\"---------------------------------------\")\n",
        "      print(G_YtoX)\n",
        "      print(\"---------------------------------------\")\n",
        "\n",
        "      print(\"                  D_X                  \")\n",
        "      print(\"---------------------------------------\")\n",
        "      print(D_X)\n",
        "      print(\"---------------------------------------\")\n",
        "\n",
        "      print(\"                  D_Y                  \")\n",
        "      print(\"---------------------------------------\")\n",
        "      print(D_Y)\n",
        "      print(\"---------------------------------------\")\n",
        "    else:\n",
        "      print(\"                 G                     \")\n",
        "      print(\"---------------------------------------\")\n",
        "      print(G_XtoY)\n",
        "      print(\"---------------------------------------\")\n",
        "\n",
        "      print(\"                  D                    \")\n",
        "      print(\"---------------------------------------\")\n",
        "      print(D_X)\n",
        "      print(\"---------------------------------------\")\n",
        "\n",
        "      \n",
        "def create_model(opts):\n",
        "    \"\"\"Builds the generators and discriminators.\n",
        "    \"\"\"\n",
        "    if opts.Y is None:\n",
        "      ### GAN\n",
        "      G = DCGenerator(noise_size=opts.noise_size, conv_dim=opts.g_conv_dim)\n",
        "      D = DCDiscriminator(conv_dim=opts.d_conv_dim)\n",
        "\n",
        "      print_models(G, None, D, None)\n",
        "\n",
        "      if torch.cuda.is_available():\n",
        "          G.cuda()\n",
        "          D.cuda()\n",
        "          print('Models moved to GPU.')\n",
        "      return G, D\n",
        "          \n",
        "    else:\n",
        "      ### CycleGAN\n",
        "      G_XtoY = CycleGenerator(conv_dim=opts.g_conv_dim, init_zero_weights=opts.init_zero_weights)\n",
        "      G_YtoX = CycleGenerator(conv_dim=opts.g_conv_dim, init_zero_weights=opts.init_zero_weights)\n",
        "      D_X = DCDiscriminator(conv_dim=opts.d_conv_dim)\n",
        "      D_Y = DCDiscriminator(conv_dim=opts.d_conv_dim)\n",
        "\n",
        "      print_models(G_XtoY, G_YtoX, D_X, D_Y)\n",
        "\n",
        "      if torch.cuda.is_available():\n",
        "          G_XtoY.cuda()\n",
        "          G_YtoX.cuda()\n",
        "          D_X.cuda()\n",
        "          D_Y.cuda()\n",
        "          print('Models moved to GPU.')\n",
        "      return G_XtoY, G_YtoX, D_X, D_Y\n",
        "\n",
        "\n",
        "def train(opts):\n",
        "    \"\"\"Loads the data, creates checkpoint and sample directories, and starts the training loop.\n",
        "    \"\"\"\n",
        "\n",
        "    # Create train and test dataloaders for images from the two domains X and Y\n",
        "    dataloader_X, test_dataloader_X = get_emoji_loader(emoji_type=opts.X, opts=opts)\n",
        "    if opts.Y:\n",
        "      dataloader_Y, test_dataloader_Y = get_emoji_loader(emoji_type=opts.Y, opts=opts)\n",
        "\n",
        "    # Create checkpoint and sample directories\n",
        "    create_dir(opts.checkpoint_dir)\n",
        "    create_dir(opts.sample_dir)\n",
        "\n",
        "    # Start training\n",
        "    if opts.Y is None:\n",
        "      G, D = gan_training_loop(dataloader_X, test_dataloader_X, opts)\n",
        "      return G, D\n",
        "    else:\n",
        "      G_XtoY, G_YtoX, D_X, D_Y = cyclegan_training_loop(dataloader_X, dataloader_Y, test_dataloader_X, test_dataloader_Y, opts)\n",
        "      return G_XtoY, G_YtoX, D_X, D_Y\n",
        "\n",
        "\n",
        "def print_opts(opts):\n",
        "    \"\"\"Prints the values of all command-line arguments.\n",
        "    \"\"\"\n",
        "    print('=' * 80)\n",
        "    print('Opts'.center(80))\n",
        "    print('-' * 80)\n",
        "    for key in opts.__dict__:\n",
        "        if opts.__dict__[key]:\n",
        "            print('{:>30}: {:<30}'.format(key, opts.__dict__[key]).center(80))\n",
        "    print('=' * 80)\n",
        "\n",
        "\n"
      ],
      "execution_count": null,
      "outputs": []
    },
    {
      "cell_type": "markdown",
      "metadata": {
        "id": "bXNsLNkOn38w"
      },
      "source": [
        "# Your code for generators and discriminators"
      ]
    },
    {
      "cell_type": "markdown",
      "metadata": {
        "id": "u0KxX0sDpXKb"
      },
      "source": [
        "## Helper modules"
      ]
    },
    {
      "cell_type": "code",
      "metadata": {
        "id": "y7s0etAmpUgT"
      },
      "source": [
        "def sample_noise(batch_size, dim):\n",
        "    \"\"\"\n",
        "    Generate a PyTorch Tensor of uniform random noise.\n",
        "\n",
        "    Input:\n",
        "    - batch_size: Integer giving the batch size of noise to generate.\n",
        "    - dim: Integer giving the dimension of noise to generate.\n",
        "\n",
        "    Output:\n",
        "    - A PyTorch Tensor of shape (batch_size, dim, 1, 1) containing uniform\n",
        "      random noise in the range (-1, 1).\n",
        "    \"\"\"\n",
        "    return to_var(torch.rand(batch_size, dim) * 2 - 1).unsqueeze(2).unsqueeze(3)\n",
        "  \n",
        "\n",
        "def upconv(in_channels, out_channels, kernel_size, stride=2, padding=2, batch_norm=True):\n",
        "    \"\"\"Creates a upsample-and-convolution layer, with optional batch normalization.\n",
        "    \"\"\"\n",
        "    layers = []\n",
        "    if stride>1:\n",
        "      layers.append(nn.Upsample(scale_factor=stride))\n",
        "    conv_layer = nn.Conv2d(in_channels=in_channels, out_channels=out_channels, kernel_size=kernel_size, stride=1, padding=padding, bias=False)\n",
        "    layers.append(conv_layer)\n",
        "    if batch_norm:\n",
        "        layers.append(nn.BatchNorm2d(out_channels))\n",
        "    return nn.Sequential(*layers)\n",
        "\n",
        "\n",
        "def conv(in_channels, out_channels, kernel_size, stride=2, padding=2, batch_norm=True, init_zero_weights=False):\n",
        "    \"\"\"Creates a convolutional layer, with optional batch normalization.\n",
        "    \"\"\"\n",
        "    layers = []\n",
        "    conv_layer = nn.Conv2d(in_channels=in_channels, out_channels=out_channels, kernel_size=kernel_size, stride=stride, padding=padding, bias=False)\n",
        "    if init_zero_weights:\n",
        "        conv_layer.weight.data = torch.randn(out_channels, in_channels, kernel_size, kernel_size) * 0.001\n",
        "    layers.append(conv_layer)\n",
        "\n",
        "    if batch_norm:\n",
        "        layers.append(nn.BatchNorm2d(out_channels))\n",
        "    return nn.Sequential(*layers)\n",
        "  \n",
        "  \n",
        "class ResnetBlock(nn.Module):\n",
        "    def __init__(self, conv_dim):\n",
        "        super(ResnetBlock, self).__init__()\n",
        "        self.conv_layer = conv(in_channels=conv_dim, out_channels=conv_dim, kernel_size=3, stride=1, padding=1)\n",
        "\n",
        "    def forward(self, x):\n",
        "        out = x + self.conv_layer(x)\n",
        "        return out"
      ],
      "execution_count": null,
      "outputs": []
    },
    {
      "cell_type": "markdown",
      "metadata": {
        "id": "S0_YbBwe5k35"
      },
      "source": [
        "##DCGAN"
      ]
    },
    {
      "cell_type": "markdown",
      "metadata": {
        "id": "_BAfi_8yWB3y"
      },
      "source": [
        "### GAN generator"
      ]
    },
    {
      "cell_type": "code",
      "metadata": {
        "id": "9ztmyA5Ro67o"
      },
      "source": [
        "class DCGenerator(nn.Module):\n",
        "    def __init__(self, noise_size, conv_dim):\n",
        "        super(DCGenerator, self).__init__()\n",
        "\n",
        "        self.conv_dim = conv_dim\n",
        "        ###########################################\n",
        "        ##   FILL THIS IN: CREATE ARCHITECTURE   ##\n",
        "        ###########################################\n",
        "        # upconv(in_channels, out_channels, kernel_size, stride=2, padding=2, batch_norm=True)\n",
        "        # H = (H1 - 1)*stride + HF - 2*padding\n",
        "        \n",
        "\n",
        "        self.linear_bn = upconv(noise_size,conv_dim*4,5,stride = 4, padding =2, batch_norm= True)\n",
        "        self.upconv1 = upconv(self.conv_dim*4,self.conv_dim*2,5,stride = 2, padding = 2, batch_norm = True )\n",
        "        self.upconv2 = upconv(self.conv_dim*2,self.conv_dim,5,stride = 2, padding = 2 , batch_norm = True )\n",
        "        self.upconv3 = upconv(self.conv_dim,3,5, stride = 2, padding = 2 , batch_norm = False )\n",
        "\n",
        "\n",
        "        \n",
        "    def forward(self, z):\n",
        "        \"\"\"Generates an image given a sample of random noise.\n",
        "\n",
        "            Input\n",
        "            -----\n",
        "                z: BS x noise_size x 1 x 1   -->  BSx100x1x1 (during training)\n",
        "\n",
        "            Output\n",
        "            ------\n",
        "                out: BS x channels x image_width x image_height  -->  BSx3x32x32 (during training)\n",
        "        \"\"\"\n",
        "        batch_size = z.size(0)\n",
        "        \n",
        "        out = F.relu(self.linear_bn(z)).view(-1, self.conv_dim*4, 4, 4)    # BS x 128 x 4 x 4\n",
        "        out = F.relu(self.upconv1(out))  # BS x 64 x 8 x 8\n",
        "        out = F.relu(self.upconv2(out))  # BS x 32 x 16 x 16\n",
        "        out = F.tanh(self.upconv3(out))  # BS x 3 x 32 x 32\n",
        "        \n",
        "        out_size = out.size()\n",
        "        if out_size != torch.Size([batch_size, 3, 32, 32]):\n",
        "          raise ValueError(\"expect {} x 3 x 32 x 32, but get {}\".format(batch_size, out_size))\n",
        "        return out\n"
      ],
      "execution_count": null,
      "outputs": []
    },
    {
      "cell_type": "markdown",
      "metadata": {
        "id": "cG4uqAVPp8_B"
      },
      "source": [
        "### GAN discriminator"
      ]
    },
    {
      "cell_type": "code",
      "metadata": {
        "id": "0GkjXydnqARR"
      },
      "source": [
        "class DCDiscriminator(nn.Module):\n",
        "    \"\"\"Defines the architecture of the discriminator network.\n",
        "       Note: Both discriminators D_X and D_Y have the same architecture in this assignment.\n",
        "    \"\"\"\n",
        "    def __init__(self, conv_dim=64):\n",
        "        super(DCDiscriminator, self).__init__()\n",
        "\n",
        "        ###########################################\n",
        "        ##   FILL THIS IN: CREATE ARCHITECTURE   ##\n",
        "        ###########################################\n",
        "        \n",
        "        #op_dimension =  (W−F+2P)/S+1\n",
        "        #conv(in_channels, out_channels, kernel_size, stride=2, padding=2, batch_norm=True, init_zero_weights=False)\n",
        "        \n",
        "        self.conv1 = conv(3,int(conv_dim/2) , 5,stride = 2,padding = 2,batch_norm = True)\n",
        "        self.conv2 = conv(int(conv_dim/2),int(conv_dim),5,stride = 2,padding = 2,batch_norm = True)\n",
        "        self.conv3 = conv(int(conv_dim),int(conv_dim*2),5,stride = 2,padding =2,batch_norm = True)\n",
        "        self.conv4 = conv(int(conv_dim*2),1,5,stride =2,padding = 1, batch_norm = False)\n",
        "\n",
        "\n",
        "        \n",
        "\n",
        "\n",
        "    def forward(self, x):\n",
        "        batch_size = x.size(0)\n",
        "\n",
        "        out = F.relu(self.conv1(x))    # BS x 64 x 16 x 16\n",
        "        out = F.relu(self.conv2(out))    # BS x 64 x 8 x 8\n",
        "        out = F.relu(self.conv3(out))    # BS x 64 x 4 x 4\n",
        "\n",
        "        out = self.conv4(out).squeeze()\n",
        "        out_size = out.size()\n",
        "        if out_size != torch.Size([batch_size,]):\n",
        "          raise ValueError(\"expect {} x 1, but get {}\".format(batch_size, out_size))\n",
        "        return out"
      ],
      "execution_count": null,
      "outputs": []
    },
    {
      "cell_type": "markdown",
      "metadata": {
        "id": "G8RtBMu55ysm"
      },
      "source": [
        "###GAN training loop"
      ]
    },
    {
      "cell_type": "code",
      "metadata": {
        "id": "MxIJ2Zua51KI"
      },
      "source": [
        "def gan_training_loop(dataloader, test_dataloader, opts):\n",
        "    \"\"\"Runs the training loop.\n",
        "        * Saves checkpoint every opts.checkpoint_every iterations\n",
        "        * Saves generated samples every opts.sample_every iterations\n",
        "    \"\"\"\n",
        "\n",
        "    # Create generators and discriminators\n",
        "    G, D = create_model(opts)\n",
        "\n",
        "    g_params = G.parameters()  # Get generator parameters\n",
        "    d_params = D.parameters()  # Get discriminator parameters\n",
        "\n",
        "    # Create optimizers for the generators and discriminators\n",
        "    g_optimizer = optim.Adam(g_params, opts.lr, [opts.beta1, opts.beta2])\n",
        "    d_optimizer = optim.Adam(d_params, opts.lr*2., [opts.beta1, opts.beta2])\n",
        "\n",
        "    train_iter = iter(dataloader)\n",
        "\n",
        "    test_iter = iter(test_dataloader)\n",
        "\n",
        "    # Get some fixed data from domains X and Y for sampling. These are images that are held\n",
        "    # constant throughout training, that allow us to inspect the model's performance.\n",
        "    fixed_noise = sample_noise(100, opts.noise_size)  # # 100 x noise_size x 1 x 1\n",
        "\n",
        "    iter_per_epoch = len(train_iter)\n",
        "    total_train_iters = opts.train_iters\n",
        "\n",
        "    try:\n",
        "      for iteration in range(1, opts.train_iters+1):\n",
        "\n",
        "          # Reset data_iter for each epoch\n",
        "          if iteration % iter_per_epoch == 0:\n",
        "              train_iter = iter(dataloader)\n",
        "\n",
        "          real_images, real_labels = train_iter.next()\n",
        "          real_images, real_labels = to_var(real_images), to_var(real_labels).long().squeeze()\n",
        "\n",
        "          d_optimizer.zero_grad()\n",
        "\n",
        "          # FILL THIS IN\n",
        "          # 1. Compute the discriminator loss on real images\n",
        "          D_real_loss = torch.mean((D(real_images)-1)**2)/2\n",
        "\n",
        "          # 2. Sample noise\n",
        "          noise = sample_noise(100,opts.noise_size)\n",
        "\n",
        "          # 3. Generate fake images from the noise\n",
        "          fake_images = G(noise)\n",
        "\n",
        "          # 4. Compute the discriminator loss on the fake images\n",
        "          D_fake_loss =  torch.mean((D(fake_images))**2)/2      \n",
        "\n",
        "          # 5. Compute the total discriminator loss\n",
        "          D_total_loss = D_real_loss + D_fake_loss\n",
        "\n",
        "          D_total_loss.backward()\n",
        "          d_optimizer.step()\n",
        "\n",
        "          ###########################################\n",
        "          ###          TRAIN THE GENERATOR        ###\n",
        "          ###########################################\n",
        "\n",
        "          g_optimizer.zero_grad()\n",
        "\n",
        "          # FILL THIS IN\n",
        "          # 1. Sample noise\n",
        "          noise = sample_noise(100,opts.noise_size)\n",
        "\n",
        "          # 2. Generate fake images from the noise\n",
        "          fake_images = G(noise)\n",
        "\n",
        "          # 3. Compute the generator loss\n",
        "          G_loss = torch.mean((D(fake_images)-1)**2)\n",
        "          \n",
        "          G_loss.backward()\n",
        "          g_optimizer.step()\n",
        "\n",
        "\n",
        "          # Print the log info\n",
        "          if iteration % opts.log_step == 0:\n",
        "              print('Iteration [{:4d}/{:4d}] | D_real_loss: {:6.4f} | D_fake_loss: {:6.4f} | G_loss: {:6.4f}'.format(\n",
        "                     iteration, total_train_iters, D_real_loss.item(), D_fake_loss.item(), G_loss.item()))\n",
        "\n",
        "          # Save the generated samples\n",
        "          if iteration % opts.sample_every == 0:\n",
        "              gan_save_samples(G, fixed_noise, iteration, opts)\n",
        "\n",
        "          # Save the model parameters\n",
        "          if iteration % opts.checkpoint_every == 0:\n",
        "              gan_checkpoint(iteration, G, D, opts)\n",
        "              \n",
        "    except KeyboardInterrupt:\n",
        "        print('Exiting early from training.')\n",
        "        return G, D\n",
        "      \n",
        "    return G, D\n",
        "\n",
        "\n"
      ],
      "execution_count": null,
      "outputs": []
    },
    {
      "cell_type": "markdown",
      "metadata": {
        "id": "ptSA0rHUuNHa"
      },
      "source": [
        "##CycleGAN"
      ]
    },
    {
      "cell_type": "markdown",
      "metadata": {
        "id": "I8lIyRNGuOrv"
      },
      "source": [
        "###CycleGAN generator"
      ]
    },
    {
      "cell_type": "code",
      "metadata": {
        "id": "VVswO-M-uXLo"
      },
      "source": [
        "class CycleGenerator(nn.Module):\n",
        "    \"\"\"Defines the architecture of the generator network.\n",
        "       Note: Both generators G_XtoY and G_YtoX have the same architecture in this assignment.\n",
        "    \"\"\"\n",
        "    def __init__(self, conv_dim=64, init_zero_weights=False):\n",
        "        super(CycleGenerator, self).__init__()\n",
        "\n",
        "        ###########################################\n",
        "        ##   FILL THIS IN: CREATE ARCHITECTURE   ##\n",
        "        ###########################################\n",
        "        # upconv(in_channels, out_channels, kernel_size, stride=2, padding=2, batch_norm=True)\n",
        "        # H = (H1 - 1)*stride + HF - 2*padding\n",
        "        # op_dimension =  (W−F+2P)/S+1\n",
        "        #conv(in_channels, out_channels, kernel_size, stride=2, padding=2, batch_norm=True, init_zero_weights=False)\n",
        "\n",
        "        # 1. Define the encoder part of the generator (that extracts features from the input image)\n",
        "        self.conv1 = conv(3,conv_dim , 5,stride = 2,padding = 2,batch_norm = True)\n",
        "        self.conv2 = conv(conv_dim,conv_dim*2,5,stride = 2,padding = 2,batch_norm = True)\n",
        "\n",
        "        # 2. Define the transformation part of the generator\n",
        "        self.resnet_block = ResnetBlock(conv_dim * 2)\n",
        "\n",
        "        # 3. Define the decoder part of the generator (that builds up the output image from features)\n",
        "        self.upconv1 = upconv(conv_dim*2,conv_dim,5,stride = 2, padding = 2 , batch_norm = True )\n",
        "        self.upconv2 = upconv(conv_dim,3,5, stride = 2, padding = 2 , batch_norm = False )\n",
        "\n",
        "\n",
        "    def forward(self, x):\n",
        "        \"\"\"Generates an image conditioned on an input image.\n",
        "\n",
        "            Input\n",
        "            -----\n",
        "                x: BS x 3 x 32 x 32\n",
        "\n",
        "            Output\n",
        "            ------\n",
        "                out: BS x 3 x 32 x 32\n",
        "        \"\"\"\n",
        "        batch_size = x.size(0)\n",
        "        \n",
        "        out = F.relu(self.conv1(x))            # BS x 32 x 16 x 16\n",
        "        out = F.relu(self.conv2(out))          # BS x 64 x 8 x 8\n",
        "        \n",
        "        out = F.relu(self.resnet_block(out))   # BS x 64 x 8 x 8\n",
        "\n",
        "        out = F.relu(self.upconv1(out))        # BS x 32 x 16 x 16\n",
        "        out = F.tanh(self.upconv2(out))        # BS x 3 x 32 x 32\n",
        "        \n",
        "        out_size = out.size()\n",
        "        if out_size != torch.Size([batch_size, 3, 32, 32]):\n",
        "          raise ValueError(\"expect {} x 3 x 32 x 32, but get {}\".format(batch_size, out_size))\n",
        "\n",
        "\n",
        "        return out"
      ],
      "execution_count": null,
      "outputs": []
    },
    {
      "cell_type": "markdown",
      "metadata": {
        "id": "oYVbPQ6OuB1w"
      },
      "source": [
        "###CycleGAN training loop"
      ]
    },
    {
      "cell_type": "code",
      "metadata": {
        "id": "CFfQjxstuGaA"
      },
      "source": [
        "def cyclegan_training_loop(dataloader_X, dataloader_Y, test_dataloader_X, test_dataloader_Y, opts):\n",
        "    \"\"\"Runs the training loop.\n",
        "        * Saves checkpoint every opts.checkpoint_every iterations\n",
        "        * Saves generated samples every opts.sample_every iterations\n",
        "    \"\"\"\n",
        "\n",
        "    # Create generators and discriminators\n",
        "    G_XtoY, G_YtoX, D_X, D_Y = create_model(opts)\n",
        "\n",
        "    g_params = list(G_XtoY.parameters()) + list(G_YtoX.parameters())  # Get generator parameters\n",
        "    d_params = list(D_X.parameters()) + list(D_Y.parameters())  # Get discriminator parameters\n",
        "\n",
        "    # Create optimizers for the generators and discriminators\n",
        "    g_optimizer = optim.Adam(g_params, opts.lr, [opts.beta1, opts.beta2])\n",
        "    d_optimizer = optim.Adam(d_params, opts.lr, [opts.beta1, opts.beta2])\n",
        "\n",
        "    iter_X = iter(dataloader_X)\n",
        "    iter_Y = iter(dataloader_Y)\n",
        "\n",
        "    test_iter_X = iter(test_dataloader_X)\n",
        "    test_iter_Y = iter(test_dataloader_Y)\n",
        "\n",
        "    # Get some fixed data from domains X and Y for sampling. These are images that are held\n",
        "    # constant throughout training, that allow us to inspect the model's performance.\n",
        "    fixed_X = to_var(test_iter_X.next()[0])\n",
        "    fixed_Y = to_var(test_iter_Y.next()[0])\n",
        "\n",
        "    iter_per_epoch = min(len(iter_X), len(iter_Y))\n",
        "\n",
        "    try:\n",
        "      for iteration in range(1, opts.train_iters+1):\n",
        "\n",
        "          # Reset data_iter for each epoch\n",
        "          if iteration % iter_per_epoch == 0:\n",
        "              iter_X = iter(dataloader_X)\n",
        "              iter_Y = iter(dataloader_Y)\n",
        "\n",
        "          images_X, labels_X = iter_X.next()\n",
        "          images_X, labels_X = to_var(images_X), to_var(labels_X).long().squeeze()\n",
        "\n",
        "          images_Y, labels_Y = iter_Y.next()\n",
        "          images_Y, labels_Y = to_var(images_Y), to_var(labels_Y).long().squeeze()\n",
        "\n",
        "\n",
        "          # ============================================\n",
        "          #            TRAIN THE DISCRIMINATORS\n",
        "          # ============================================\n",
        "\n",
        "          #########################################\n",
        "          ##             FILL THIS IN            ##\n",
        "          #########################################\n",
        "\n",
        "          # Train with real images\n",
        "          d_optimizer.zero_grad()\n",
        "\n",
        "          # 1. Compute the discriminator losses on real images\n",
        "          D_X_loss = (torch.mean((D_X(images_X)-1)**2))\n",
        "          D_Y_loss = (torch.mean((D_Y(images_Y)-1)**2))\n",
        "          \n",
        "          d_real_loss = D_X_loss + D_Y_loss\n",
        "          d_real_loss.backward()\n",
        "          d_optimizer.step()\n",
        "\n",
        "          # Train with fake images\n",
        "          d_optimizer.zero_grad()\n",
        "\n",
        "          # 2. Generate fake images that look like domain X based on real images in domain Y\n",
        "          fake_X = G_YtoX(images_Y) \n",
        "\n",
        "          # 3. Compute the loss for D_X\n",
        "          D_X_loss = (torch.mean((D_X(fake_X))**2))\n",
        "\n",
        "          # 4. Generate fake images that look like domain Y based on real images in domain X\n",
        "          fake_Y = G_XtoY(images_X)\n",
        "\n",
        "          # 5. Compute the loss for D_Y\n",
        "          D_Y_loss = (torch.mean((D_Y(fake_Y))**2))\n",
        "\n",
        "          d_fake_loss = D_X_loss + D_Y_loss\n",
        "          d_fake_loss.backward()\n",
        "          d_optimizer.step()\n",
        "\n",
        "\n",
        "\n",
        "          # =========================================\n",
        "          #            TRAIN THE GENERATORS\n",
        "          # =========================================\n",
        "\n",
        "\n",
        "          #########################################\n",
        "          ##    FILL THIS IN: Y--X-->Y CYCLE     ##\n",
        "          #########################################\n",
        "          g_optimizer.zero_grad()\n",
        "\n",
        "          # 1. Generate fake images that look like domain X based on real images in domain Y\n",
        "          fake_X = G_YtoX(images_Y) \n",
        "\n",
        "          # 2. Compute the generator loss based on domain X\n",
        "          g_loss = (torch.mean((D_X(fake_X)-1)**2))\n",
        "\n",
        "          reconstructed_Y = G_XtoY(fake_X)\n",
        "          # 3. Compute the cycle consistency loss (the reconstruction loss)\n",
        "          cycle_consistency_loss = torch.mean(torch.abs(images_Y- reconstructed_Y))\n",
        "          \n",
        "          g_loss += opts.lambda_cycle * cycle_consistency_loss\n",
        "          \n",
        "          g_loss.backward()\n",
        "          g_optimizer.step()\n",
        "\n",
        "\n",
        "\n",
        "          #########################################\n",
        "          ##    FILL THIS IN: X--Y-->X CYCLE     ##\n",
        "          #########################################\n",
        "\n",
        "          g_optimizer.zero_grad()\n",
        "\n",
        "          # 1. Generate fake images that look like domain Y based on real images in domain X\n",
        "          fake_Y = G_XtoY(images_X)\n",
        "\n",
        "          # 2. Compute the generator loss based on domain Y\n",
        "          g_loss = (torch.mean((D_Y(fake_Y)-1)**2))\n",
        "\n",
        "\n",
        "          reconstructed_X = G_YtoX(fake_Y)\n",
        "          # 3. Compute the cycle consistency loss (the reconstruction loss)\n",
        "          cycle_consistency_loss  = torch.mean(torch.abs(images_X- reconstructed_X))\n",
        "          \n",
        "          g_loss += opts.lambda_cycle * cycle_consistency_loss\n",
        "\n",
        "          g_loss.backward()\n",
        "          g_optimizer.step()\n",
        "\n",
        "\n",
        "          # Print the log info\n",
        "          if iteration % opts.log_step == 0:\n",
        "              print('Iteration [{:5d}/{:5d}] | d_real_loss: {:6.4f} | d_Y_loss: {:6.4f} | d_X_loss: {:6.4f} | '\n",
        "                    'd_fake_loss: {:6.4f} | g_loss: {:6.4f}'.format(\n",
        "                      iteration, opts.train_iters, d_real_loss.item(), D_Y_loss.item(),\n",
        "                      D_X_loss.item(), d_fake_loss.item(), g_loss.item()))\n",
        "\n",
        "\n",
        "          # Save the generated samples\n",
        "          if iteration % opts.sample_every == 0:\n",
        "              cyclegan_save_samples(iteration, fixed_Y, fixed_X, G_YtoX, G_XtoY, opts)\n",
        "\n",
        "\n",
        "          # Save the model parameters\n",
        "          if iteration % opts.checkpoint_every == 0:\n",
        "              cyclegan_checkpoint(iteration, G_XtoY, G_YtoX, D_X, D_Y, opts)\n",
        "\n",
        "    except KeyboardInterrupt:\n",
        "        print('Exiting early from training.')\n",
        "        return G_XtoY, G_YtoX, D_X, D_Y\n",
        "      \n",
        "    return G_XtoY, G_YtoX, D_X, D_Y\n"
      ],
      "execution_count": null,
      "outputs": []
    },
    {
      "cell_type": "markdown",
      "metadata": {
        "id": "XuNFd6LNo0-o"
      },
      "source": [
        "# Training\n"
      ]
    },
    {
      "cell_type": "markdown",
      "metadata": {
        "id": "kiUwiOITHTW4"
      },
      "source": [
        "## Download dataset"
      ]
    },
    {
      "cell_type": "code",
      "metadata": {
        "id": "xwcFjsEpHRbI",
        "colab": {
          "base_uri": "https://localhost:8080/"
        },
        "outputId": "ba25cda9-4501-4040-a189-55a5e826ceb8"
      },
      "source": [
        "######################################################################\n",
        "# Download Translation datasets\n",
        "######################################################################\n",
        "data_fpath = get_file(fname='emojis', \n",
        "                         origin='http://www.cs.toronto.edu/~jba/emojis.tar.gz', \n",
        "                         untar=True)"
      ],
      "execution_count": null,
      "outputs": [
        {
          "output_type": "stream",
          "text": [
            "data/emojis.tar.gz\n"
          ],
          "name": "stdout"
        }
      ]
    },
    {
      "cell_type": "markdown",
      "metadata": {
        "id": "hmQmyJDSRFKR"
      },
      "source": [
        "## DCGAN"
      ]
    },
    {
      "cell_type": "code",
      "metadata": {
        "id": "0LKaRF1jwhH7",
        "colab": {
          "base_uri": "https://localhost:8080/"
        },
        "outputId": "a7773382-cd44-4db3-9e51-0d55f6e648ba"
      },
      "source": [
        "SEED = 11\n",
        "\n",
        "# Set the random seed manually for reproducibility.\n",
        "np.random.seed(SEED)\n",
        "torch.manual_seed(SEED)\n",
        "if torch.cuda.is_available():\n",
        "    torch.cuda.manual_seed(SEED)\n",
        "\n",
        "\n",
        "args = AttrDict()\n",
        "args_dict = {\n",
        "              'image_size':32, \n",
        "              'g_conv_dim':32, \n",
        "              'd_conv_dim':64,\n",
        "              'noise_size':100,\n",
        "              'num_workers': 0,\n",
        "              'train_iters':5000,\n",
        "              'X':'Windows',  # options: 'Windows' / 'Apple'\n",
        "              'Y': None,\n",
        "              'lr':0.0003,\n",
        "              'beta1':0.5,\n",
        "              'beta2':0.999,\n",
        "              'batch_size':32, \n",
        "              'checkpoint_dir': 'checkpoints_gan',\n",
        "              'sample_dir': 'samples_gan',\n",
        "              'load': None,\n",
        "              'log_step':200,\n",
        "              'sample_every':200,\n",
        "              'checkpoint_every':1000,\n",
        "}\n",
        "args.update(args_dict)\n",
        "\n",
        "print_opts(args)\n",
        "G, D = train(args)"
      ],
      "execution_count": null,
      "outputs": [
        {
          "output_type": "stream",
          "text": [
            "================================================================================\n",
            "                                      Opts                                      \n",
            "--------------------------------------------------------------------------------\n",
            "                             image_size: 32                                     \n",
            "                             g_conv_dim: 32                                     \n",
            "                             d_conv_dim: 64                                     \n",
            "                             noise_size: 100                                    \n",
            "                            train_iters: 5000                                   \n",
            "                                      X: Windows                                \n",
            "                                     lr: 0.0003                                 \n",
            "                                  beta1: 0.5                                    \n",
            "                                  beta2: 0.999                                  \n",
            "                             batch_size: 32                                     \n",
            "                         checkpoint_dir: checkpoints_gan                        \n",
            "                             sample_dir: samples_gan                            \n",
            "                               log_step: 200                                    \n",
            "                           sample_every: 200                                    \n",
            "                       checkpoint_every: 1000                                   \n",
            "================================================================================\n",
            "                 G                     \n",
            "---------------------------------------\n",
            "DCGenerator(\n",
            "  (linear_bn): Sequential(\n",
            "    (0): Upsample(scale_factor=4.0, mode=nearest)\n",
            "    (1): Conv2d(100, 128, kernel_size=(5, 5), stride=(1, 1), padding=(2, 2), bias=False)\n",
            "    (2): BatchNorm2d(128, eps=1e-05, momentum=0.1, affine=True, track_running_stats=True)\n",
            "  )\n",
            "  (upconv1): Sequential(\n",
            "    (0): Upsample(scale_factor=2.0, mode=nearest)\n",
            "    (1): Conv2d(128, 64, kernel_size=(5, 5), stride=(1, 1), padding=(2, 2), bias=False)\n",
            "    (2): BatchNorm2d(64, eps=1e-05, momentum=0.1, affine=True, track_running_stats=True)\n",
            "  )\n",
            "  (upconv2): Sequential(\n",
            "    (0): Upsample(scale_factor=2.0, mode=nearest)\n",
            "    (1): Conv2d(64, 32, kernel_size=(5, 5), stride=(1, 1), padding=(2, 2), bias=False)\n",
            "    (2): BatchNorm2d(32, eps=1e-05, momentum=0.1, affine=True, track_running_stats=True)\n",
            "  )\n",
            "  (upconv3): Sequential(\n",
            "    (0): Upsample(scale_factor=2.0, mode=nearest)\n",
            "    (1): Conv2d(32, 3, kernel_size=(5, 5), stride=(1, 1), padding=(2, 2), bias=False)\n",
            "  )\n",
            ")\n",
            "---------------------------------------\n",
            "                  D                    \n",
            "---------------------------------------\n",
            "DCDiscriminator(\n",
            "  (conv1): Sequential(\n",
            "    (0): Conv2d(3, 32, kernel_size=(5, 5), stride=(2, 2), padding=(2, 2), bias=False)\n",
            "    (1): BatchNorm2d(32, eps=1e-05, momentum=0.1, affine=True, track_running_stats=True)\n",
            "  )\n",
            "  (conv2): Sequential(\n",
            "    (0): Conv2d(32, 64, kernel_size=(5, 5), stride=(2, 2), padding=(2, 2), bias=False)\n",
            "    (1): BatchNorm2d(64, eps=1e-05, momentum=0.1, affine=True, track_running_stats=True)\n",
            "  )\n",
            "  (conv3): Sequential(\n",
            "    (0): Conv2d(64, 128, kernel_size=(5, 5), stride=(2, 2), padding=(2, 2), bias=False)\n",
            "    (1): BatchNorm2d(128, eps=1e-05, momentum=0.1, affine=True, track_running_stats=True)\n",
            "  )\n",
            "  (conv4): Sequential(\n",
            "    (0): Conv2d(128, 1, kernel_size=(5, 5), stride=(2, 2), padding=(1, 1), bias=False)\n",
            "  )\n",
            ")\n",
            "---------------------------------------\n",
            "Models moved to GPU.\n"
          ],
          "name": "stdout"
        },
        {
          "output_type": "stream",
          "text": [
            "/usr/local/lib/python3.7/dist-packages/torchvision/transforms/transforms.py:285: UserWarning: The use of the transforms.Scale transform is deprecated, please use transforms.Resize instead.\n",
            "  warnings.warn(\"The use of the transforms.Scale transform is deprecated, \" +\n",
            "/usr/local/lib/python3.7/dist-packages/PIL/Image.py:913: UserWarning: Palette images with Transparency   expressed in bytes should be converted to RGBA images\n",
            "  ' expressed in bytes should be converted ' +\n",
            "/usr/local/lib/python3.7/dist-packages/torch/nn/functional.py:1698: UserWarning: nn.functional.tanh is deprecated. Use torch.tanh instead.\n",
            "  warnings.warn(\"nn.functional.tanh is deprecated. Use torch.tanh instead.\")\n",
            "WARNING:root:Lossy conversion from float32 to uint8. Range [-0.989663302898407, 0.9951696991920471]. Convert image to uint8 prior to saving to suppress this warning.\n"
          ],
          "name": "stderr"
        },
        {
          "output_type": "stream",
          "text": [
            "Iteration [ 200/5000] | D_real_loss: 0.0178 | D_fake_loss: 0.1023 | G_loss: 1.8985\n",
            "Saved samples_gan/sample-000200.png\n"
          ],
          "name": "stdout"
        },
        {
          "output_type": "stream",
          "text": [
            "WARNING:root:Lossy conversion from float32 to uint8. Range [-0.9094105958938599, 0.9801092743873596]. Convert image to uint8 prior to saving to suppress this warning.\n"
          ],
          "name": "stderr"
        },
        {
          "output_type": "stream",
          "text": [
            "Iteration [ 400/5000] | D_real_loss: 0.0158 | D_fake_loss: 0.0474 | G_loss: 1.2296\n",
            "Saved samples_gan/sample-000400.png\n"
          ],
          "name": "stdout"
        },
        {
          "output_type": "stream",
          "text": [
            "WARNING:root:Lossy conversion from float32 to uint8. Range [-0.8646862506866455, 0.9367179274559021]. Convert image to uint8 prior to saving to suppress this warning.\n"
          ],
          "name": "stderr"
        },
        {
          "output_type": "stream",
          "text": [
            "Iteration [ 600/5000] | D_real_loss: 0.0207 | D_fake_loss: 0.0270 | G_loss: 0.8543\n",
            "Saved samples_gan/sample-000600.png\n"
          ],
          "name": "stdout"
        },
        {
          "output_type": "stream",
          "text": [
            "WARNING:root:Lossy conversion from float32 to uint8. Range [-0.8683611750602722, 0.8978179693222046]. Convert image to uint8 prior to saving to suppress this warning.\n"
          ],
          "name": "stderr"
        },
        {
          "output_type": "stream",
          "text": [
            "Iteration [ 800/5000] | D_real_loss: 0.0095 | D_fake_loss: 0.0164 | G_loss: 1.1191\n",
            "Saved samples_gan/sample-000800.png\n"
          ],
          "name": "stdout"
        },
        {
          "output_type": "stream",
          "text": [
            "WARNING:root:Lossy conversion from float32 to uint8. Range [-0.8675603270530701, 0.9088528156280518]. Convert image to uint8 prior to saving to suppress this warning.\n"
          ],
          "name": "stderr"
        },
        {
          "output_type": "stream",
          "text": [
            "Iteration [1000/5000] | D_real_loss: 0.0089 | D_fake_loss: 0.0178 | G_loss: 0.8669\n",
            "Saved samples_gan/sample-001000.png\n"
          ],
          "name": "stdout"
        },
        {
          "output_type": "stream",
          "text": [
            "WARNING:root:Lossy conversion from float32 to uint8. Range [-0.9248431921005249, 0.8186044692993164]. Convert image to uint8 prior to saving to suppress this warning.\n"
          ],
          "name": "stderr"
        },
        {
          "output_type": "stream",
          "text": [
            "Iteration [1200/5000] | D_real_loss: 0.0295 | D_fake_loss: 0.0065 | G_loss: 0.7876\n",
            "Saved samples_gan/sample-001200.png\n"
          ],
          "name": "stdout"
        },
        {
          "output_type": "stream",
          "text": [
            "WARNING:root:Lossy conversion from float32 to uint8. Range [-0.8628170490264893, 0.9104084372520447]. Convert image to uint8 prior to saving to suppress this warning.\n"
          ],
          "name": "stderr"
        },
        {
          "output_type": "stream",
          "text": [
            "Iteration [1400/5000] | D_real_loss: 0.0383 | D_fake_loss: 0.0080 | G_loss: 0.6494\n",
            "Saved samples_gan/sample-001400.png\n"
          ],
          "name": "stdout"
        },
        {
          "output_type": "stream",
          "text": [
            "WARNING:root:Lossy conversion from float32 to uint8. Range [-0.8357197046279907, 0.7768008708953857]. Convert image to uint8 prior to saving to suppress this warning.\n"
          ],
          "name": "stderr"
        },
        {
          "output_type": "stream",
          "text": [
            "Iteration [1600/5000] | D_real_loss: 0.0092 | D_fake_loss: 0.0134 | G_loss: 0.6589\n",
            "Saved samples_gan/sample-001600.png\n"
          ],
          "name": "stdout"
        },
        {
          "output_type": "stream",
          "text": [
            "WARNING:root:Lossy conversion from float32 to uint8. Range [-0.8601750135421753, 0.8064274787902832]. Convert image to uint8 prior to saving to suppress this warning.\n"
          ],
          "name": "stderr"
        },
        {
          "output_type": "stream",
          "text": [
            "Iteration [1800/5000] | D_real_loss: 0.0081 | D_fake_loss: 0.0068 | G_loss: 1.0013\n",
            "Saved samples_gan/sample-001800.png\n"
          ],
          "name": "stdout"
        },
        {
          "output_type": "stream",
          "text": [
            "WARNING:root:Lossy conversion from float32 to uint8. Range [-0.8496484756469727, 0.8275574445724487]. Convert image to uint8 prior to saving to suppress this warning.\n"
          ],
          "name": "stderr"
        },
        {
          "output_type": "stream",
          "text": [
            "Iteration [2000/5000] | D_real_loss: 0.0093 | D_fake_loss: 0.0147 | G_loss: 0.7600\n",
            "Saved samples_gan/sample-002000.png\n"
          ],
          "name": "stdout"
        },
        {
          "output_type": "stream",
          "text": [
            "WARNING:root:Lossy conversion from float32 to uint8. Range [-0.745455265045166, 0.7889733910560608]. Convert image to uint8 prior to saving to suppress this warning.\n"
          ],
          "name": "stderr"
        },
        {
          "output_type": "stream",
          "text": [
            "Iteration [2200/5000] | D_real_loss: 0.0084 | D_fake_loss: 0.0035 | G_loss: 0.9603\n",
            "Saved samples_gan/sample-002200.png\n"
          ],
          "name": "stdout"
        },
        {
          "output_type": "stream",
          "text": [
            "WARNING:root:Lossy conversion from float32 to uint8. Range [-0.8303090929985046, 0.7433160543441772]. Convert image to uint8 prior to saving to suppress this warning.\n"
          ],
          "name": "stderr"
        },
        {
          "output_type": "stream",
          "text": [
            "Iteration [2400/5000] | D_real_loss: 0.0111 | D_fake_loss: 0.0130 | G_loss: 0.8780\n",
            "Saved samples_gan/sample-002400.png\n"
          ],
          "name": "stdout"
        },
        {
          "output_type": "stream",
          "text": [
            "WARNING:root:Lossy conversion from float32 to uint8. Range [-0.7829310894012451, 0.7933491468429565]. Convert image to uint8 prior to saving to suppress this warning.\n"
          ],
          "name": "stderr"
        },
        {
          "output_type": "stream",
          "text": [
            "Iteration [2600/5000] | D_real_loss: 0.0069 | D_fake_loss: 0.0056 | G_loss: 0.9065\n",
            "Saved samples_gan/sample-002600.png\n"
          ],
          "name": "stdout"
        },
        {
          "output_type": "stream",
          "text": [
            "WARNING:root:Lossy conversion from float32 to uint8. Range [-0.7401366233825684, 0.7900102734565735]. Convert image to uint8 prior to saving to suppress this warning.\n"
          ],
          "name": "stderr"
        },
        {
          "output_type": "stream",
          "text": [
            "Iteration [2800/5000] | D_real_loss: 0.0117 | D_fake_loss: 0.0055 | G_loss: 0.8019\n",
            "Saved samples_gan/sample-002800.png\n"
          ],
          "name": "stdout"
        },
        {
          "output_type": "stream",
          "text": [
            "WARNING:root:Lossy conversion from float32 to uint8. Range [-0.8554859757423401, 0.8364381194114685]. Convert image to uint8 prior to saving to suppress this warning.\n"
          ],
          "name": "stderr"
        },
        {
          "output_type": "stream",
          "text": [
            "Iteration [3000/5000] | D_real_loss: 0.0073 | D_fake_loss: 0.0044 | G_loss: 1.2662\n",
            "Saved samples_gan/sample-003000.png\n"
          ],
          "name": "stdout"
        },
        {
          "output_type": "stream",
          "text": [
            "WARNING:root:Lossy conversion from float32 to uint8. Range [-0.8387551307678223, 0.8635658025741577]. Convert image to uint8 prior to saving to suppress this warning.\n"
          ],
          "name": "stderr"
        },
        {
          "output_type": "stream",
          "text": [
            "Iteration [3200/5000] | D_real_loss: 0.0063 | D_fake_loss: 0.0118 | G_loss: 1.1861\n",
            "Saved samples_gan/sample-003200.png\n"
          ],
          "name": "stdout"
        },
        {
          "output_type": "stream",
          "text": [
            "WARNING:root:Lossy conversion from float32 to uint8. Range [-0.7935815453529358, 0.8870294094085693]. Convert image to uint8 prior to saving to suppress this warning.\n"
          ],
          "name": "stderr"
        },
        {
          "output_type": "stream",
          "text": [
            "Iteration [3400/5000] | D_real_loss: 0.0062 | D_fake_loss: 0.0052 | G_loss: 1.0090\n",
            "Saved samples_gan/sample-003400.png\n"
          ],
          "name": "stdout"
        },
        {
          "output_type": "stream",
          "text": [
            "WARNING:root:Lossy conversion from float32 to uint8. Range [-0.7069706320762634, 0.8074301481246948]. Convert image to uint8 prior to saving to suppress this warning.\n"
          ],
          "name": "stderr"
        },
        {
          "output_type": "stream",
          "text": [
            "Iteration [3600/5000] | D_real_loss: 0.0041 | D_fake_loss: 0.0040 | G_loss: 0.9434\n",
            "Saved samples_gan/sample-003600.png\n"
          ],
          "name": "stdout"
        },
        {
          "output_type": "stream",
          "text": [
            "WARNING:root:Lossy conversion from float32 to uint8. Range [-0.8083412051200867, 0.8244994282722473]. Convert image to uint8 prior to saving to suppress this warning.\n"
          ],
          "name": "stderr"
        },
        {
          "output_type": "stream",
          "text": [
            "Iteration [3800/5000] | D_real_loss: 0.0066 | D_fake_loss: 0.0058 | G_loss: 0.9571\n",
            "Saved samples_gan/sample-003800.png\n"
          ],
          "name": "stdout"
        },
        {
          "output_type": "stream",
          "text": [
            "WARNING:root:Lossy conversion from float32 to uint8. Range [-0.8625272512435913, 0.8205631971359253]. Convert image to uint8 prior to saving to suppress this warning.\n"
          ],
          "name": "stderr"
        },
        {
          "output_type": "stream",
          "text": [
            "Iteration [4000/5000] | D_real_loss: 0.0029 | D_fake_loss: 0.0077 | G_loss: 1.0744\n",
            "Saved samples_gan/sample-004000.png\n"
          ],
          "name": "stdout"
        },
        {
          "output_type": "stream",
          "text": [
            "WARNING:root:Lossy conversion from float32 to uint8. Range [-0.8387314677238464, 0.8314514756202698]. Convert image to uint8 prior to saving to suppress this warning.\n"
          ],
          "name": "stderr"
        },
        {
          "output_type": "stream",
          "text": [
            "Iteration [4200/5000] | D_real_loss: 0.0035 | D_fake_loss: 0.0033 | G_loss: 1.0680\n",
            "Saved samples_gan/sample-004200.png\n"
          ],
          "name": "stdout"
        },
        {
          "output_type": "stream",
          "text": [
            "WARNING:root:Lossy conversion from float32 to uint8. Range [-0.87152498960495, 0.858144998550415]. Convert image to uint8 prior to saving to suppress this warning.\n"
          ],
          "name": "stderr"
        },
        {
          "output_type": "stream",
          "text": [
            "Iteration [4400/5000] | D_real_loss: 0.0038 | D_fake_loss: 0.0030 | G_loss: 0.8684\n",
            "Saved samples_gan/sample-004400.png\n"
          ],
          "name": "stdout"
        },
        {
          "output_type": "stream",
          "text": [
            "WARNING:root:Lossy conversion from float32 to uint8. Range [-0.8523980975151062, 0.7733564376831055]. Convert image to uint8 prior to saving to suppress this warning.\n"
          ],
          "name": "stderr"
        },
        {
          "output_type": "stream",
          "text": [
            "Iteration [4600/5000] | D_real_loss: 0.0074 | D_fake_loss: 0.0030 | G_loss: 1.3522\n",
            "Saved samples_gan/sample-004600.png\n"
          ],
          "name": "stdout"
        },
        {
          "output_type": "stream",
          "text": [
            "WARNING:root:Lossy conversion from float32 to uint8. Range [-0.7336333394050598, 0.9138010740280151]. Convert image to uint8 prior to saving to suppress this warning.\n"
          ],
          "name": "stderr"
        },
        {
          "output_type": "stream",
          "text": [
            "Iteration [4800/5000] | D_real_loss: 0.0067 | D_fake_loss: 0.0183 | G_loss: 0.9538\n",
            "Saved samples_gan/sample-004800.png\n"
          ],
          "name": "stdout"
        },
        {
          "output_type": "stream",
          "text": [
            "WARNING:root:Lossy conversion from float32 to uint8. Range [-0.8004330396652222, 0.8467822670936584]. Convert image to uint8 prior to saving to suppress this warning.\n"
          ],
          "name": "stderr"
        },
        {
          "output_type": "stream",
          "text": [
            "Iteration [5000/5000] | D_real_loss: 0.0224 | D_fake_loss: 0.0274 | G_loss: 1.5736\n",
            "Saved samples_gan/sample-005000.png\n"
          ],
          "name": "stdout"
        }
      ]
    },
    {
      "cell_type": "markdown",
      "metadata": {
        "id": "7cP7nl5NRJbu"
      },
      "source": [
        "## CycleGAN"
      ]
    },
    {
      "cell_type": "code",
      "metadata": {
        "id": "nKlyfbuPDXDR",
        "colab": {
          "base_uri": "https://localhost:8080/"
        },
        "outputId": "9aa66676-8f82-4609-88bb-8a931a54b891"
      },
      "source": [
        "SEED = 4\n",
        "\n",
        "# Set the random seed manually for reproducibility.\n",
        "np.random.seed(SEED)\n",
        "torch.manual_seed(SEED)\n",
        "if torch.cuda.is_available():\n",
        "    torch.cuda.manual_seed(SEED)\n",
        "\n",
        "\n",
        "args = AttrDict()\n",
        "args_dict = {\n",
        "              'image_size':32, \n",
        "              'g_conv_dim':32, \n",
        "              'd_conv_dim':32,\n",
        "              'init_zero_weights': False,\n",
        "              'num_workers': 0,\n",
        "              'train_iters':5000,\n",
        "              'X':'Apple',\n",
        "              'Y':'Windows',\n",
        "              'lambda_cycle': 0.015,\n",
        "              'lr':0.0003,\n",
        "              'beta1':0.3,\n",
        "              'beta2':0.999,\n",
        "              'batch_size':32, \n",
        "              'checkpoint_dir': 'checkpoints_cyclegan',\n",
        "              'sample_dir': 'samples_cyclegan',\n",
        "              'load': None,\n",
        "              'log_step':200,\n",
        "              'sample_every':200,\n",
        "              'checkpoint_every':1000,\n",
        "}\n",
        "args.update(args_dict)\n",
        "\n",
        "\n",
        "print_opts(args)\n",
        "G_XtoY, G_YtoX, D_X, D_Y = train(args)"
      ],
      "execution_count": null,
      "outputs": [
        {
          "output_type": "stream",
          "text": [
            "================================================================================\n",
            "                                      Opts                                      \n",
            "--------------------------------------------------------------------------------\n",
            "                             image_size: 32                                     \n",
            "                             g_conv_dim: 32                                     \n",
            "                             d_conv_dim: 32                                     \n",
            "                            train_iters: 5000                                   \n",
            "                                      X: Apple                                  \n",
            "                                      Y: Windows                                \n",
            "                           lambda_cycle: 0.015                                  \n",
            "                                     lr: 0.0003                                 \n",
            "                                  beta1: 0.3                                    \n",
            "                                  beta2: 0.999                                  \n",
            "                             batch_size: 32                                     \n",
            "                         checkpoint_dir: checkpoints_cyclegan                   \n",
            "                             sample_dir: samples_cyclegan                       \n",
            "                               log_step: 200                                    \n",
            "                           sample_every: 200                                    \n",
            "                       checkpoint_every: 1000                                   \n",
            "================================================================================\n",
            "                 G_XtoY                \n",
            "---------------------------------------\n",
            "CycleGenerator(\n",
            "  (conv1): Sequential(\n",
            "    (0): Conv2d(3, 32, kernel_size=(5, 5), stride=(2, 2), padding=(2, 2), bias=False)\n",
            "    (1): BatchNorm2d(32, eps=1e-05, momentum=0.1, affine=True, track_running_stats=True)\n",
            "  )\n",
            "  (conv2): Sequential(\n",
            "    (0): Conv2d(32, 64, kernel_size=(5, 5), stride=(2, 2), padding=(2, 2), bias=False)\n",
            "    (1): BatchNorm2d(64, eps=1e-05, momentum=0.1, affine=True, track_running_stats=True)\n",
            "  )\n",
            "  (resnet_block): ResnetBlock(\n",
            "    (conv_layer): Sequential(\n",
            "      (0): Conv2d(64, 64, kernel_size=(3, 3), stride=(1, 1), padding=(1, 1), bias=False)\n",
            "      (1): BatchNorm2d(64, eps=1e-05, momentum=0.1, affine=True, track_running_stats=True)\n",
            "    )\n",
            "  )\n",
            "  (upconv1): Sequential(\n",
            "    (0): Upsample(scale_factor=2.0, mode=nearest)\n",
            "    (1): Conv2d(64, 32, kernel_size=(5, 5), stride=(1, 1), padding=(2, 2), bias=False)\n",
            "    (2): BatchNorm2d(32, eps=1e-05, momentum=0.1, affine=True, track_running_stats=True)\n",
            "  )\n",
            "  (upconv2): Sequential(\n",
            "    (0): Upsample(scale_factor=2.0, mode=nearest)\n",
            "    (1): Conv2d(32, 3, kernel_size=(5, 5), stride=(1, 1), padding=(2, 2), bias=False)\n",
            "  )\n",
            ")\n",
            "---------------------------------------\n",
            "                 G_YtoX                \n",
            "---------------------------------------\n",
            "CycleGenerator(\n",
            "  (conv1): Sequential(\n",
            "    (0): Conv2d(3, 32, kernel_size=(5, 5), stride=(2, 2), padding=(2, 2), bias=False)\n",
            "    (1): BatchNorm2d(32, eps=1e-05, momentum=0.1, affine=True, track_running_stats=True)\n",
            "  )\n",
            "  (conv2): Sequential(\n",
            "    (0): Conv2d(32, 64, kernel_size=(5, 5), stride=(2, 2), padding=(2, 2), bias=False)\n",
            "    (1): BatchNorm2d(64, eps=1e-05, momentum=0.1, affine=True, track_running_stats=True)\n",
            "  )\n",
            "  (resnet_block): ResnetBlock(\n",
            "    (conv_layer): Sequential(\n",
            "      (0): Conv2d(64, 64, kernel_size=(3, 3), stride=(1, 1), padding=(1, 1), bias=False)\n",
            "      (1): BatchNorm2d(64, eps=1e-05, momentum=0.1, affine=True, track_running_stats=True)\n",
            "    )\n",
            "  )\n",
            "  (upconv1): Sequential(\n",
            "    (0): Upsample(scale_factor=2.0, mode=nearest)\n",
            "    (1): Conv2d(64, 32, kernel_size=(5, 5), stride=(1, 1), padding=(2, 2), bias=False)\n",
            "    (2): BatchNorm2d(32, eps=1e-05, momentum=0.1, affine=True, track_running_stats=True)\n",
            "  )\n",
            "  (upconv2): Sequential(\n",
            "    (0): Upsample(scale_factor=2.0, mode=nearest)\n",
            "    (1): Conv2d(32, 3, kernel_size=(5, 5), stride=(1, 1), padding=(2, 2), bias=False)\n",
            "  )\n",
            ")\n",
            "---------------------------------------\n",
            "                  D_X                  \n",
            "---------------------------------------\n",
            "DCDiscriminator(\n",
            "  (conv1): Sequential(\n",
            "    (0): Conv2d(3, 16, kernel_size=(5, 5), stride=(2, 2), padding=(2, 2), bias=False)\n",
            "    (1): BatchNorm2d(16, eps=1e-05, momentum=0.1, affine=True, track_running_stats=True)\n",
            "  )\n",
            "  (conv2): Sequential(\n",
            "    (0): Conv2d(16, 32, kernel_size=(5, 5), stride=(2, 2), padding=(2, 2), bias=False)\n",
            "    (1): BatchNorm2d(32, eps=1e-05, momentum=0.1, affine=True, track_running_stats=True)\n",
            "  )\n",
            "  (conv3): Sequential(\n",
            "    (0): Conv2d(32, 64, kernel_size=(5, 5), stride=(2, 2), padding=(2, 2), bias=False)\n",
            "    (1): BatchNorm2d(64, eps=1e-05, momentum=0.1, affine=True, track_running_stats=True)\n",
            "  )\n",
            "  (conv4): Sequential(\n",
            "    (0): Conv2d(64, 1, kernel_size=(5, 5), stride=(2, 2), padding=(1, 1), bias=False)\n",
            "  )\n",
            ")\n",
            "---------------------------------------\n",
            "                  D_Y                  \n",
            "---------------------------------------\n",
            "DCDiscriminator(\n",
            "  (conv1): Sequential(\n",
            "    (0): Conv2d(3, 16, kernel_size=(5, 5), stride=(2, 2), padding=(2, 2), bias=False)\n",
            "    (1): BatchNorm2d(16, eps=1e-05, momentum=0.1, affine=True, track_running_stats=True)\n",
            "  )\n",
            "  (conv2): Sequential(\n",
            "    (0): Conv2d(16, 32, kernel_size=(5, 5), stride=(2, 2), padding=(2, 2), bias=False)\n",
            "    (1): BatchNorm2d(32, eps=1e-05, momentum=0.1, affine=True, track_running_stats=True)\n",
            "  )\n",
            "  (conv3): Sequential(\n",
            "    (0): Conv2d(32, 64, kernel_size=(5, 5), stride=(2, 2), padding=(2, 2), bias=False)\n",
            "    (1): BatchNorm2d(64, eps=1e-05, momentum=0.1, affine=True, track_running_stats=True)\n",
            "  )\n",
            "  (conv4): Sequential(\n",
            "    (0): Conv2d(64, 1, kernel_size=(5, 5), stride=(2, 2), padding=(1, 1), bias=False)\n",
            "  )\n",
            ")\n",
            "---------------------------------------\n",
            "Models moved to GPU.\n"
          ],
          "name": "stdout"
        },
        {
          "output_type": "stream",
          "text": [
            "/usr/local/lib/python3.7/dist-packages/torchvision/transforms/transforms.py:285: UserWarning: The use of the transforms.Scale transform is deprecated, please use transforms.Resize instead.\n",
            "  warnings.warn(\"The use of the transforms.Scale transform is deprecated, \" +\n",
            "/usr/local/lib/python3.7/dist-packages/PIL/Image.py:913: UserWarning: Palette images with Transparency   expressed in bytes should be converted to RGBA images\n",
            "  ' expressed in bytes should be converted ' +\n",
            "/usr/local/lib/python3.7/dist-packages/torch/nn/functional.py:1698: UserWarning: nn.functional.tanh is deprecated. Use torch.tanh instead.\n",
            "  warnings.warn(\"nn.functional.tanh is deprecated. Use torch.tanh instead.\")\n",
            "WARNING:root:Lossy conversion from float64 to uint8. Range [-1.0, 1.0]. Convert image to uint8 prior to saving to suppress this warning.\n",
            "WARNING:root:Lossy conversion from float64 to uint8. Range [-1.0, 1.0]. Convert image to uint8 prior to saving to suppress this warning.\n"
          ],
          "name": "stderr"
        },
        {
          "output_type": "stream",
          "text": [
            "Iteration [  200/ 5000] | d_real_loss: 0.5995 | d_Y_loss: 0.2857 | d_X_loss: 0.2237 | d_fake_loss: 0.5094 | g_loss: 0.8674\n",
            "Saved samples_cyclegan/sample-000200-X-Y.png\n",
            "Saved samples_cyclegan/sample-000200-Y-X.png\n"
          ],
          "name": "stdout"
        },
        {
          "output_type": "stream",
          "text": [
            "WARNING:root:Lossy conversion from float64 to uint8. Range [-1.0, 1.0]. Convert image to uint8 prior to saving to suppress this warning.\n",
            "WARNING:root:Lossy conversion from float64 to uint8. Range [-1.0, 1.0]. Convert image to uint8 prior to saving to suppress this warning.\n"
          ],
          "name": "stderr"
        },
        {
          "output_type": "stream",
          "text": [
            "Iteration [  400/ 5000] | d_real_loss: 0.4399 | d_Y_loss: 0.1246 | d_X_loss: 0.2595 | d_fake_loss: 0.3840 | g_loss: 0.8795\n",
            "Saved samples_cyclegan/sample-000400-X-Y.png\n",
            "Saved samples_cyclegan/sample-000400-Y-X.png\n"
          ],
          "name": "stdout"
        },
        {
          "output_type": "stream",
          "text": [
            "WARNING:root:Lossy conversion from float64 to uint8. Range [-1.0, 1.0]. Convert image to uint8 prior to saving to suppress this warning.\n",
            "WARNING:root:Lossy conversion from float64 to uint8. Range [-1.0, 1.0]. Convert image to uint8 prior to saving to suppress this warning.\n"
          ],
          "name": "stderr"
        },
        {
          "output_type": "stream",
          "text": [
            "Iteration [  600/ 5000] | d_real_loss: 0.4528 | d_Y_loss: 0.1305 | d_X_loss: 0.2482 | d_fake_loss: 0.3788 | g_loss: 1.0063\n",
            "Saved samples_cyclegan/sample-000600-X-Y.png\n",
            "Saved samples_cyclegan/sample-000600-Y-X.png\n"
          ],
          "name": "stdout"
        },
        {
          "output_type": "stream",
          "text": [
            "WARNING:root:Lossy conversion from float64 to uint8. Range [-1.0, 1.0]. Convert image to uint8 prior to saving to suppress this warning.\n",
            "WARNING:root:Lossy conversion from float64 to uint8. Range [-1.0, 1.0]. Convert image to uint8 prior to saving to suppress this warning.\n"
          ],
          "name": "stderr"
        },
        {
          "output_type": "stream",
          "text": [
            "Iteration [  800/ 5000] | d_real_loss: 0.2742 | d_Y_loss: 0.1554 | d_X_loss: 0.2489 | d_fake_loss: 0.4043 | g_loss: 1.2349\n",
            "Saved samples_cyclegan/sample-000800-X-Y.png\n",
            "Saved samples_cyclegan/sample-000800-Y-X.png\n"
          ],
          "name": "stdout"
        },
        {
          "output_type": "stream",
          "text": [
            "WARNING:root:Lossy conversion from float64 to uint8. Range [-1.0, 1.0]. Convert image to uint8 prior to saving to suppress this warning.\n",
            "WARNING:root:Lossy conversion from float64 to uint8. Range [-1.0, 1.0]. Convert image to uint8 prior to saving to suppress this warning.\n"
          ],
          "name": "stderr"
        },
        {
          "output_type": "stream",
          "text": [
            "Iteration [ 1000/ 5000] | d_real_loss: 0.1954 | d_Y_loss: 0.0369 | d_X_loss: 0.1760 | d_fake_loss: 0.2129 | g_loss: 1.1404\n",
            "Saved samples_cyclegan/sample-001000-X-Y.png\n",
            "Saved samples_cyclegan/sample-001000-Y-X.png\n"
          ],
          "name": "stdout"
        },
        {
          "output_type": "stream",
          "text": [
            "WARNING:root:Lossy conversion from float64 to uint8. Range [-1.0, 1.0]. Convert image to uint8 prior to saving to suppress this warning.\n",
            "WARNING:root:Lossy conversion from float64 to uint8. Range [-1.0, 1.0]. Convert image to uint8 prior to saving to suppress this warning.\n"
          ],
          "name": "stderr"
        },
        {
          "output_type": "stream",
          "text": [
            "Iteration [ 1200/ 5000] | d_real_loss: 0.3365 | d_Y_loss: 0.1331 | d_X_loss: 0.1295 | d_fake_loss: 0.2626 | g_loss: 1.2380\n",
            "Saved samples_cyclegan/sample-001200-X-Y.png\n",
            "Saved samples_cyclegan/sample-001200-Y-X.png\n"
          ],
          "name": "stdout"
        },
        {
          "output_type": "stream",
          "text": [
            "WARNING:root:Lossy conversion from float64 to uint8. Range [-1.0, 1.0]. Convert image to uint8 prior to saving to suppress this warning.\n",
            "WARNING:root:Lossy conversion from float64 to uint8. Range [-1.0, 1.0]. Convert image to uint8 prior to saving to suppress this warning.\n"
          ],
          "name": "stderr"
        },
        {
          "output_type": "stream",
          "text": [
            "Iteration [ 1400/ 5000] | d_real_loss: 0.2780 | d_Y_loss: 0.1624 | d_X_loss: 0.2451 | d_fake_loss: 0.4076 | g_loss: 1.3586\n",
            "Saved samples_cyclegan/sample-001400-X-Y.png\n",
            "Saved samples_cyclegan/sample-001400-Y-X.png\n"
          ],
          "name": "stdout"
        },
        {
          "output_type": "stream",
          "text": [
            "WARNING:root:Lossy conversion from float64 to uint8. Range [-1.0, 1.0]. Convert image to uint8 prior to saving to suppress this warning.\n",
            "WARNING:root:Lossy conversion from float64 to uint8. Range [-1.0, 1.0]. Convert image to uint8 prior to saving to suppress this warning.\n"
          ],
          "name": "stderr"
        },
        {
          "output_type": "stream",
          "text": [
            "Iteration [ 1600/ 5000] | d_real_loss: 0.2422 | d_Y_loss: 0.0800 | d_X_loss: 0.1071 | d_fake_loss: 0.1871 | g_loss: 1.1661\n",
            "Saved samples_cyclegan/sample-001600-X-Y.png\n",
            "Saved samples_cyclegan/sample-001600-Y-X.png\n"
          ],
          "name": "stdout"
        },
        {
          "output_type": "stream",
          "text": [
            "WARNING:root:Lossy conversion from float64 to uint8. Range [-1.0, 1.0]. Convert image to uint8 prior to saving to suppress this warning.\n",
            "WARNING:root:Lossy conversion from float64 to uint8. Range [-1.0, 1.0]. Convert image to uint8 prior to saving to suppress this warning.\n"
          ],
          "name": "stderr"
        },
        {
          "output_type": "stream",
          "text": [
            "Iteration [ 1800/ 5000] | d_real_loss: 0.2269 | d_Y_loss: 0.0449 | d_X_loss: 0.2532 | d_fake_loss: 0.2981 | g_loss: 1.3296\n",
            "Saved samples_cyclegan/sample-001800-X-Y.png\n",
            "Saved samples_cyclegan/sample-001800-Y-X.png\n"
          ],
          "name": "stdout"
        },
        {
          "output_type": "stream",
          "text": [
            "WARNING:root:Lossy conversion from float64 to uint8. Range [-1.0, 1.0]. Convert image to uint8 prior to saving to suppress this warning.\n",
            "WARNING:root:Lossy conversion from float64 to uint8. Range [-1.0, 1.0]. Convert image to uint8 prior to saving to suppress this warning.\n"
          ],
          "name": "stderr"
        },
        {
          "output_type": "stream",
          "text": [
            "Iteration [ 2000/ 5000] | d_real_loss: 0.1325 | d_Y_loss: 0.0502 | d_X_loss: 0.1337 | d_fake_loss: 0.1839 | g_loss: 1.2071\n",
            "Saved samples_cyclegan/sample-002000-X-Y.png\n",
            "Saved samples_cyclegan/sample-002000-Y-X.png\n"
          ],
          "name": "stdout"
        },
        {
          "output_type": "stream",
          "text": [
            "WARNING:root:Lossy conversion from float64 to uint8. Range [-1.0, 1.0]. Convert image to uint8 prior to saving to suppress this warning.\n",
            "WARNING:root:Lossy conversion from float64 to uint8. Range [-1.0, 1.0]. Convert image to uint8 prior to saving to suppress this warning.\n"
          ],
          "name": "stderr"
        },
        {
          "output_type": "stream",
          "text": [
            "Iteration [ 2200/ 5000] | d_real_loss: 0.2358 | d_Y_loss: 0.0596 | d_X_loss: 0.1653 | d_fake_loss: 0.2249 | g_loss: 0.8977\n",
            "Saved samples_cyclegan/sample-002200-X-Y.png\n",
            "Saved samples_cyclegan/sample-002200-Y-X.png\n"
          ],
          "name": "stdout"
        },
        {
          "output_type": "stream",
          "text": [
            "WARNING:root:Lossy conversion from float64 to uint8. Range [-1.0, 1.0]. Convert image to uint8 prior to saving to suppress this warning.\n",
            "WARNING:root:Lossy conversion from float64 to uint8. Range [-1.0, 1.0]. Convert image to uint8 prior to saving to suppress this warning.\n"
          ],
          "name": "stderr"
        },
        {
          "output_type": "stream",
          "text": [
            "Iteration [ 2400/ 5000] | d_real_loss: 0.1122 | d_Y_loss: 0.0400 | d_X_loss: 0.1110 | d_fake_loss: 0.1510 | g_loss: 1.1533\n",
            "Saved samples_cyclegan/sample-002400-X-Y.png\n",
            "Saved samples_cyclegan/sample-002400-Y-X.png\n"
          ],
          "name": "stdout"
        },
        {
          "output_type": "stream",
          "text": [
            "WARNING:root:Lossy conversion from float64 to uint8. Range [-1.0, 1.0]. Convert image to uint8 prior to saving to suppress this warning.\n",
            "WARNING:root:Lossy conversion from float64 to uint8. Range [-1.0, 1.0]. Convert image to uint8 prior to saving to suppress this warning.\n"
          ],
          "name": "stderr"
        },
        {
          "output_type": "stream",
          "text": [
            "Iteration [ 2600/ 5000] | d_real_loss: 0.1906 | d_Y_loss: 0.0417 | d_X_loss: 0.1070 | d_fake_loss: 0.1487 | g_loss: 0.9693\n",
            "Saved samples_cyclegan/sample-002600-X-Y.png\n",
            "Saved samples_cyclegan/sample-002600-Y-X.png\n"
          ],
          "name": "stdout"
        },
        {
          "output_type": "stream",
          "text": [
            "WARNING:root:Lossy conversion from float64 to uint8. Range [-1.0, 1.0]. Convert image to uint8 prior to saving to suppress this warning.\n",
            "WARNING:root:Lossy conversion from float64 to uint8. Range [-1.0, 1.0]. Convert image to uint8 prior to saving to suppress this warning.\n"
          ],
          "name": "stderr"
        },
        {
          "output_type": "stream",
          "text": [
            "Iteration [ 2800/ 5000] | d_real_loss: 0.1262 | d_Y_loss: 0.0313 | d_X_loss: 0.0636 | d_fake_loss: 0.0949 | g_loss: 0.9618\n",
            "Saved samples_cyclegan/sample-002800-X-Y.png\n",
            "Saved samples_cyclegan/sample-002800-Y-X.png\n"
          ],
          "name": "stdout"
        },
        {
          "output_type": "stream",
          "text": [
            "WARNING:root:Lossy conversion from float64 to uint8. Range [-1.0, 1.0]. Convert image to uint8 prior to saving to suppress this warning.\n",
            "WARNING:root:Lossy conversion from float64 to uint8. Range [-1.0, 1.0]. Convert image to uint8 prior to saving to suppress this warning.\n"
          ],
          "name": "stderr"
        },
        {
          "output_type": "stream",
          "text": [
            "Iteration [ 3000/ 5000] | d_real_loss: 0.2556 | d_Y_loss: 0.0402 | d_X_loss: 0.1750 | d_fake_loss: 0.2152 | g_loss: 1.0533\n",
            "Saved samples_cyclegan/sample-003000-X-Y.png\n",
            "Saved samples_cyclegan/sample-003000-Y-X.png\n"
          ],
          "name": "stdout"
        },
        {
          "output_type": "stream",
          "text": [
            "WARNING:root:Lossy conversion from float64 to uint8. Range [-1.0, 1.0]. Convert image to uint8 prior to saving to suppress this warning.\n",
            "WARNING:root:Lossy conversion from float64 to uint8. Range [-1.0, 1.0]. Convert image to uint8 prior to saving to suppress this warning.\n"
          ],
          "name": "stderr"
        },
        {
          "output_type": "stream",
          "text": [
            "Iteration [ 3200/ 5000] | d_real_loss: 0.0969 | d_Y_loss: 0.0357 | d_X_loss: 0.0865 | d_fake_loss: 0.1222 | g_loss: 1.2040\n",
            "Saved samples_cyclegan/sample-003200-X-Y.png\n",
            "Saved samples_cyclegan/sample-003200-Y-X.png\n"
          ],
          "name": "stdout"
        },
        {
          "output_type": "stream",
          "text": [
            "WARNING:root:Lossy conversion from float64 to uint8. Range [-1.0, 1.0]. Convert image to uint8 prior to saving to suppress this warning.\n",
            "WARNING:root:Lossy conversion from float64 to uint8. Range [-1.0, 1.0]. Convert image to uint8 prior to saving to suppress this warning.\n"
          ],
          "name": "stderr"
        },
        {
          "output_type": "stream",
          "text": [
            "Iteration [ 3400/ 5000] | d_real_loss: 0.2139 | d_Y_loss: 0.0308 | d_X_loss: 0.0795 | d_fake_loss: 0.1104 | g_loss: 0.9765\n",
            "Saved samples_cyclegan/sample-003400-X-Y.png\n",
            "Saved samples_cyclegan/sample-003400-Y-X.png\n"
          ],
          "name": "stdout"
        },
        {
          "output_type": "stream",
          "text": [
            "WARNING:root:Lossy conversion from float64 to uint8. Range [-1.0, 1.0]. Convert image to uint8 prior to saving to suppress this warning.\n",
            "WARNING:root:Lossy conversion from float64 to uint8. Range [-1.0, 1.0]. Convert image to uint8 prior to saving to suppress this warning.\n"
          ],
          "name": "stderr"
        },
        {
          "output_type": "stream",
          "text": [
            "Iteration [ 3600/ 5000] | d_real_loss: 0.0505 | d_Y_loss: 0.0305 | d_X_loss: 0.0600 | d_fake_loss: 0.0905 | g_loss: 1.2014\n",
            "Saved samples_cyclegan/sample-003600-X-Y.png\n",
            "Saved samples_cyclegan/sample-003600-Y-X.png\n"
          ],
          "name": "stdout"
        },
        {
          "output_type": "stream",
          "text": [
            "WARNING:root:Lossy conversion from float64 to uint8. Range [-1.0, 1.0]. Convert image to uint8 prior to saving to suppress this warning.\n",
            "WARNING:root:Lossy conversion from float64 to uint8. Range [-1.0, 1.0]. Convert image to uint8 prior to saving to suppress this warning.\n"
          ],
          "name": "stderr"
        },
        {
          "output_type": "stream",
          "text": [
            "Iteration [ 3800/ 5000] | d_real_loss: 0.1084 | d_Y_loss: 0.1393 | d_X_loss: 0.0257 | d_fake_loss: 0.1650 | g_loss: 1.3350\n",
            "Saved samples_cyclegan/sample-003800-X-Y.png\n",
            "Saved samples_cyclegan/sample-003800-Y-X.png\n"
          ],
          "name": "stdout"
        },
        {
          "output_type": "stream",
          "text": [
            "WARNING:root:Lossy conversion from float64 to uint8. Range [-1.0, 1.0]. Convert image to uint8 prior to saving to suppress this warning.\n",
            "WARNING:root:Lossy conversion from float64 to uint8. Range [-1.0, 1.0]. Convert image to uint8 prior to saving to suppress this warning.\n"
          ],
          "name": "stderr"
        },
        {
          "output_type": "stream",
          "text": [
            "Iteration [ 4000/ 5000] | d_real_loss: 0.0992 | d_Y_loss: 0.0600 | d_X_loss: 0.0343 | d_fake_loss: 0.0943 | g_loss: 1.1751\n",
            "Saved samples_cyclegan/sample-004000-X-Y.png\n",
            "Saved samples_cyclegan/sample-004000-Y-X.png\n"
          ],
          "name": "stdout"
        },
        {
          "output_type": "stream",
          "text": [
            "WARNING:root:Lossy conversion from float64 to uint8. Range [-1.0, 1.0]. Convert image to uint8 prior to saving to suppress this warning.\n",
            "WARNING:root:Lossy conversion from float64 to uint8. Range [-1.0, 1.0]. Convert image to uint8 prior to saving to suppress this warning.\n"
          ],
          "name": "stderr"
        },
        {
          "output_type": "stream",
          "text": [
            "Iteration [ 4200/ 5000] | d_real_loss: 0.1016 | d_Y_loss: 0.0445 | d_X_loss: 0.0892 | d_fake_loss: 0.1336 | g_loss: 1.0431\n",
            "Saved samples_cyclegan/sample-004200-X-Y.png\n",
            "Saved samples_cyclegan/sample-004200-Y-X.png\n"
          ],
          "name": "stdout"
        },
        {
          "output_type": "stream",
          "text": [
            "WARNING:root:Lossy conversion from float64 to uint8. Range [-1.0, 1.0]. Convert image to uint8 prior to saving to suppress this warning.\n",
            "WARNING:root:Lossy conversion from float64 to uint8. Range [-1.0, 1.0]. Convert image to uint8 prior to saving to suppress this warning.\n"
          ],
          "name": "stderr"
        },
        {
          "output_type": "stream",
          "text": [
            "Iteration [ 4400/ 5000] | d_real_loss: 0.1919 | d_Y_loss: 0.0287 | d_X_loss: 0.1404 | d_fake_loss: 0.1690 | g_loss: 0.9669\n",
            "Saved samples_cyclegan/sample-004400-X-Y.png\n",
            "Saved samples_cyclegan/sample-004400-Y-X.png\n"
          ],
          "name": "stdout"
        },
        {
          "output_type": "stream",
          "text": [
            "WARNING:root:Lossy conversion from float64 to uint8. Range [-1.0, 1.0]. Convert image to uint8 prior to saving to suppress this warning.\n",
            "WARNING:root:Lossy conversion from float64 to uint8. Range [-1.0, 1.0]. Convert image to uint8 prior to saving to suppress this warning.\n"
          ],
          "name": "stderr"
        },
        {
          "output_type": "stream",
          "text": [
            "Iteration [ 4600/ 5000] | d_real_loss: 0.2393 | d_Y_loss: 0.0413 | d_X_loss: 0.0843 | d_fake_loss: 0.1256 | g_loss: 1.1082\n",
            "Saved samples_cyclegan/sample-004600-X-Y.png\n",
            "Saved samples_cyclegan/sample-004600-Y-X.png\n"
          ],
          "name": "stdout"
        },
        {
          "output_type": "stream",
          "text": [
            "WARNING:root:Lossy conversion from float64 to uint8. Range [-1.0, 1.0]. Convert image to uint8 prior to saving to suppress this warning.\n",
            "WARNING:root:Lossy conversion from float64 to uint8. Range [-1.0, 1.0]. Convert image to uint8 prior to saving to suppress this warning.\n"
          ],
          "name": "stderr"
        },
        {
          "output_type": "stream",
          "text": [
            "Iteration [ 4800/ 5000] | d_real_loss: 0.5521 | d_Y_loss: 0.0767 | d_X_loss: 0.1496 | d_fake_loss: 0.2263 | g_loss: 1.2508\n",
            "Saved samples_cyclegan/sample-004800-X-Y.png\n",
            "Saved samples_cyclegan/sample-004800-Y-X.png\n"
          ],
          "name": "stdout"
        },
        {
          "output_type": "stream",
          "text": [
            "WARNING:root:Lossy conversion from float64 to uint8. Range [-1.0, 1.0]. Convert image to uint8 prior to saving to suppress this warning.\n",
            "WARNING:root:Lossy conversion from float64 to uint8. Range [-1.0, 1.0]. Convert image to uint8 prior to saving to suppress this warning.\n"
          ],
          "name": "stderr"
        },
        {
          "output_type": "stream",
          "text": [
            "Iteration [ 5000/ 5000] | d_real_loss: 0.1697 | d_Y_loss: 0.0432 | d_X_loss: 0.0372 | d_fake_loss: 0.0804 | g_loss: 1.2664\n",
            "Saved samples_cyclegan/sample-005000-X-Y.png\n",
            "Saved samples_cyclegan/sample-005000-Y-X.png\n"
          ],
          "name": "stdout"
        }
      ]
    },
    {
      "cell_type": "code",
      "metadata": {
        "id": "HZAhfWBkAUQa"
      },
      "source": [
        ""
      ],
      "execution_count": null,
      "outputs": []
    }
  ]
}